{
 "cells": [
  {
   "cell_type": "markdown",
   "metadata": {},
   "source": [
    "# DEV END"
   ]
  },
  {
   "cell_type": "markdown",
   "metadata": {},
   "source": [
    "### Importamos librerias"
   ]
  },
  {
   "cell_type": "code",
   "execution_count": 1,
   "metadata": {},
   "outputs": [],
   "source": [
    "import requests\n",
    "from bs4 import BeautifulSoup"
   ]
  },
  {
   "cell_type": "code",
   "execution_count": 2,
   "metadata": {},
   "outputs": [],
   "source": [
    "def main(url):\n",
    "    links_secciones = _obtener_secciones(url)\n",
    "    notas = _obtener_notas(links_secciones)\n",
    "    data = _obtener_data(notas)\n",
    "    _save_data(data)"
   ]
  },
  {
   "cell_type": "code",
   "execution_count": 3,
   "metadata": {},
   "outputs": [],
   "source": [
    "def _obtener_secciones(url):\n",
    "    request = requests.get(url)\n",
    "    \n",
    "    if request.status_code == 200:\n",
    "        soup = BeautifulSoup(request.text, 'html.parser')\n",
    "        secciones = soup.find('div', attrs= {'class':'moduletable_modmenulateral'}).find_all('li')\n",
    "        links = [seccion.a.get('href') for seccion in secciones]\n",
    "        links_secciones = [url + i  for i in links ]\n",
    "    return links_secciones\n"
   ]
  },
  {
   "cell_type": "code",
   "execution_count": 4,
   "metadata": {},
   "outputs": [],
   "source": [
    "# _obtener_secciones('https://www.mef.gob.pe')"
   ]
  },
  {
   "cell_type": "code",
   "execution_count": 5,
   "metadata": {},
   "outputs": [],
   "source": [
    "def _obtener_notas(links_secciones):\n",
    "    notas = []\n",
    "    for link in links_secciones:\n",
    "        try:\n",
    "            r = requests.get(link)\n",
    "            if r.status_code == 200:\n",
    "                soup = BeautifulSoup(r.text, 'html.parser')\n",
    "                notas.extend(__obtener_urls_notas(soup))\n",
    "            else:\n",
    "                print('No se pudo obtener la seccion', link)\n",
    "        except:\n",
    "            print('No se pudo obtener la seccion', link)\n",
    "\n",
    "    return notas"
   ]
  },
  {
   "cell_type": "code",
   "execution_count": 6,
   "metadata": {},
   "outputs": [],
   "source": [
    "\n",
    "def __obtener_urls_notas(soup):\n",
    "    '''\n",
    "    Funcion que recibe un objeto de BeautifulSoup de una pagina \n",
    "    de una seccion y devuelve una lista de urls a las notas de esa seccion.\n",
    "    '''\n",
    "    lista_notas = []\n",
    "\n",
    "    # Obtengo el articulo promocionado\n",
    "    featured_article = soup.find(\n",
    "        'div', attrs={'class': 'featured-article__container'})\n",
    "    if featured_article:\n",
    "        lista_notas.append(featured_article.a.get('href'))\n",
    "\n",
    "    # Obtengo el listado de los articulos\n",
    "    article_list = soup.find('ul', attrs={'class': 'article-list'})\n",
    "\n",
    "    for article in article_list.find_all('li'):\n",
    "\n",
    "        if article.a:\n",
    "            lista_notas.append(article.a.get('href'))\n",
    "\n",
    "    return list(set(lista_notas))\n"
   ]
  },
  {
   "cell_type": "code",
   "execution_count": 7,
   "metadata": {},
   "outputs": [],
   "source": [
    "def _obtener_data(notas):\n",
    "    data = []\n",
    "\n",
    "    for i, nota in enumerate(notas):\n",
    "        print( {i}/{len(notas)})\n",
    "        data.append(__scrape_nota(nota))\n",
    "    return data\n"
   ]
  },
  {
   "cell_type": "code",
   "execution_count": 8,
   "metadata": {},
   "outputs": [],
   "source": [
    "def __scrape_nota(url):\n",
    "    try:\n",
    "        nota = requests.get(url)\n",
    "    except Excepton as e:\n",
    "        print('Error scrapeando ULR' ,{url})\n",
    "        print(e)\n",
    "        returnNone\n",
    "\n",
    "    if nota.status_code != 200:\n",
    "        print('fError obteniendo nota', {url})\n",
    "        print('Status code ', {nota.status_code})\n",
    "        returnNone\n",
    "        \n",
    "    s_nota = BeautifulSoup(nota.text, 'html.parser')\n",
    "\n",
    "    ret_dict = __obtener_info(s_nota)\n",
    "    ret_dict['url'] = url\n",
    "\n",
    "    return ret_dict        "
   ]
  },
  {
   "cell_type": "code",
   "execution_count": 9,
   "metadata": {},
   "outputs": [],
   "source": [
    "\n",
    "def __obtener_info(s_nota):\n",
    "    # Creamos un diccionario vacio para probarlo con la informacion\n",
    "    ret_dict = {}\n",
    "\n",
    "    # Extraemos la fecha\n",
    "    fecha = s_nota.find('span', attrs={'pubdate': 'pubdate'})\n",
    "    if fecha:\n",
    "        ret_dict['fecha'] = fecha.get('datetime')\n",
    "    else:\n",
    "        ret_dict['fecha'] = None\n",
    "\n",
    "    # Extraemos el titulo\n",
    "    titulo = s_nota.find('h1', attrs={'class': 'article-title'})\n",
    "    if titulo:\n",
    "        ret_dict['titulo'] = titulo.text\n",
    "    else:\n",
    "        ret_dict['titulo'] = None\n",
    "\n",
    "    # Extraer la volanda\n",
    "    volanta = s_nota.find('h2', attrs={'class': 'article-prefix'})\n",
    "    if volanta:\n",
    "        ret_dict['volanta'] = volanta.get_text()\n",
    "    else:\n",
    "        ret_dict['volanta'] = None\n",
    "\n",
    "    # Extraer copete\n",
    "    copete = s_nota.find('div', attrs={'class': 'article-summary'})\n",
    "    if copete:\n",
    "        ret_dict['copete'] = copete.get_text()\n",
    "    else:\n",
    "        ret_dict['copete'] = None\n",
    "\n",
    "    # Extraer autor\n",
    "    autor = s_nota.find('div', attrs={'class': 'article-author'})\n",
    "    if autor:\n",
    "        ret_dict['autor'] = autor.get_text()\n",
    "    else:\n",
    "        ret_dict['autor'] = None\n",
    "\n",
    "    # Extraer imagen\n",
    "    media = s_nota.find('div', attrs={'class': 'article-main-media'})\n",
    "    if media:\n",
    "        imagenes = media.find_all('img')\n",
    "        if len(imagenes) == 0:\n",
    "            print('no se encontraron imagenes')\n",
    "        else:\n",
    "            imagen = imagenes[-1]\n",
    "            img_src = imagen.get('data-src')\n",
    "            try:\n",
    "                img_req = requests.get(img_src)\n",
    "                if img_req.status_code == 200:\n",
    "                    ret_dict['imagen'] = img_req.content\n",
    "                else:\n",
    "                    ret_dict['imagen'] = None\n",
    "            except:\n",
    "                print('No se pudo obtener la imagen')\n",
    "    else:\n",
    "        print('No se encontro media')\n",
    "\n",
    "    # Extraerel  cuerpo\n",
    "    cuerpo = s_nota.find('div', attrs={'class': 'article-text'})\n",
    "    if cuerpo:\n",
    "        ret_dict['cuerpo'] = cuerpo.get_text()\n",
    "    else:\n",
    "        ret_dict['cuerpo'] = None\n",
    "\n",
    "    return ret_dict\n"
   ]
  },
  {
   "cell_type": "code",
   "execution_count": 10,
   "metadata": {},
   "outputs": [],
   "source": [
    "def _save_data(data):\n",
    "    df = pd.DataFrame(data)\n",
    "    df.to_csv('Notas_pagina12.csv')\n",
    "        \n",
    "    return df\n"
   ]
  },
  {
   "cell_type": "code",
   "execution_count": 11,
   "metadata": {},
   "outputs": [
    {
     "name": "stdout",
     "output_type": "stream",
     "text": [
      "('No se pudo obtener la seccion', u'https://www.mef.gob.pe/es/presentacion/es/presentacion')\n",
      "('No se pudo obtener la seccion', u'https://www.mef.gob.pe/es/presentacion/es/proyecciones-macroeconomicas')\n",
      "('No se pudo obtener la seccion', u'https://www.mef.gob.pe/es/presentacion/es/seguimiento-de-la-ejecucion-presupuestal-consulta-amigable')\n",
      "('No se pudo obtener la seccion', u'https://www.mef.gob.pe/es/presentacion/es/seguimiento-a-las-acciones-prioritarias')\n",
      "('No se pudo obtener la seccion', u'https://www.mef.gob.pe/es/presentacion/es/transferencias-a-gobierno-nacional-regional-y-locales/que-es-y-como-muestra-la-consulta')\n",
      "('No se pudo obtener la seccion', u'https://www.mef.gob.pe/es/presentacion/es/recaudacion')\n",
      "('No se pudo obtener la seccion', u'https://www.mef.gob.pe/es/presentacion/es/fondos-del-estado')\n",
      "('No se pudo obtener la seccion', u'https://www.mef.gob.pe/es/presentacion/es/provedores-del-estado/que-es-y-como-muestra-la-consulta')\n",
      "('No se pudo obtener la seccion', u'https://www.mef.gob.pe/es/presentacion/es/consulta-de-deuda-publica')\n",
      "('No se pudo obtener la seccion', u'https://www.mef.gob.pe/es/presentacion/es/cuenta-general-de-la-republica-sp-26800/que-es-y-como-muestra-la-consulta')\n",
      "('No se pudo obtener la seccion', u'https://www.mef.gob.pe/es/presentacion/es/ejecucion-de-proyectos-de-inversion')\n",
      "('No se pudo obtener la seccion', u'https://www.mef.gob.pe/es/presentacion/es/fonafe')\n",
      "('No se pudo obtener la seccion', u'https://www.mef.gob.pe/es/presentacion/es/preguntas-frecuentes-sp-24472')\n",
      "('No se pudo obtener la seccion', u'https://www.mef.gob.pe/es/presentacion/es/normas-legales')\n",
      "('No se pudo obtener la seccion', u'https://www.mef.gob.pe/es/presentacion/es/manual-de-uso')\n",
      "('No se pudo obtener la seccion', u'https://www.mef.gob.pe/es/presentacion/es/documentacion-sp-3092/leyes-de-presupuesto-del-sector-publico')\n"
     ]
    },
    {
     "ename": "NameError",
     "evalue": "global name 'pd' is not defined",
     "output_type": "error",
     "traceback": [
      "\u001b[0;31m\u001b[0m",
      "\u001b[0;31mNameError\u001b[0mTraceback (most recent call last)",
      "\u001b[0;32m<ipython-input-11-a7f6bd133d05>\u001b[0m in \u001b[0;36m<module>\u001b[0;34m()\u001b[0m\n\u001b[1;32m      1\u001b[0m \u001b[0;32mif\u001b[0m \u001b[0m__name__\u001b[0m \u001b[0;34m==\u001b[0m \u001b[0;34m\"__main__\"\u001b[0m\u001b[0;34m:\u001b[0m\u001b[0;34m\u001b[0m\u001b[0m\n\u001b[1;32m      2\u001b[0m     \u001b[0murl\u001b[0m \u001b[0;34m=\u001b[0m \u001b[0;34m'https://www.mef.gob.pe/es/presentacion'\u001b[0m\u001b[0;34m\u001b[0m\u001b[0m\n\u001b[0;32m----> 3\u001b[0;31m     \u001b[0mmain\u001b[0m\u001b[0;34m(\u001b[0m\u001b[0murl\u001b[0m\u001b[0;34m)\u001b[0m\u001b[0;34m\u001b[0m\u001b[0m\n\u001b[0m\u001b[1;32m      4\u001b[0m \u001b[0;34m\u001b[0m\u001b[0m\n",
      "\u001b[0;32m<ipython-input-2-308501db1245>\u001b[0m in \u001b[0;36mmain\u001b[0;34m(url)\u001b[0m\n\u001b[1;32m      3\u001b[0m     \u001b[0mnotas\u001b[0m \u001b[0;34m=\u001b[0m \u001b[0m_obtener_notas\u001b[0m\u001b[0;34m(\u001b[0m\u001b[0mlinks_secciones\u001b[0m\u001b[0;34m)\u001b[0m\u001b[0;34m\u001b[0m\u001b[0m\n\u001b[1;32m      4\u001b[0m     \u001b[0mdata\u001b[0m \u001b[0;34m=\u001b[0m \u001b[0m_obtener_data\u001b[0m\u001b[0;34m(\u001b[0m\u001b[0mnotas\u001b[0m\u001b[0;34m)\u001b[0m\u001b[0;34m\u001b[0m\u001b[0m\n\u001b[0;32m----> 5\u001b[0;31m     \u001b[0m_save_data\u001b[0m\u001b[0;34m(\u001b[0m\u001b[0mdata\u001b[0m\u001b[0;34m)\u001b[0m\u001b[0;34m\u001b[0m\u001b[0m\n\u001b[0m",
      "\u001b[0;32m<ipython-input-10-ae6d7e9dbd7d>\u001b[0m in \u001b[0;36m_save_data\u001b[0;34m(data)\u001b[0m\n\u001b[1;32m      1\u001b[0m \u001b[0;32mdef\u001b[0m \u001b[0m_save_data\u001b[0m\u001b[0;34m(\u001b[0m\u001b[0mdata\u001b[0m\u001b[0;34m)\u001b[0m\u001b[0;34m:\u001b[0m\u001b[0;34m\u001b[0m\u001b[0m\n\u001b[0;32m----> 2\u001b[0;31m     \u001b[0mdf\u001b[0m \u001b[0;34m=\u001b[0m \u001b[0mpd\u001b[0m\u001b[0;34m.\u001b[0m\u001b[0mDataFrame\u001b[0m\u001b[0;34m(\u001b[0m\u001b[0mdata\u001b[0m\u001b[0;34m)\u001b[0m\u001b[0;34m\u001b[0m\u001b[0m\n\u001b[0m\u001b[1;32m      3\u001b[0m     \u001b[0mdf\u001b[0m\u001b[0;34m.\u001b[0m\u001b[0mto_csv\u001b[0m\u001b[0;34m(\u001b[0m\u001b[0;34m'Notas_pagina12.csv'\u001b[0m\u001b[0;34m)\u001b[0m\u001b[0;34m\u001b[0m\u001b[0m\n\u001b[1;32m      4\u001b[0m \u001b[0;34m\u001b[0m\u001b[0m\n\u001b[1;32m      5\u001b[0m     \u001b[0;32mreturn\u001b[0m \u001b[0mdf\u001b[0m\u001b[0;34m\u001b[0m\u001b[0m\n",
      "\u001b[0;31mNameError\u001b[0m: global name 'pd' is not defined"
     ]
    }
   ],
   "source": [
    "if __name__ == \"__main__\":\n",
    "    url = 'https://www.mef.gob.pe/es/presentacion'\n",
    "    main(url)\n",
    "    "
   ]
  },
  {
   "cell_type": "markdown",
   "metadata": {},
   "source": [
    "# START HERE\n"
   ]
  },
  {
   "cell_type": "code",
   "execution_count": 12,
   "metadata": {},
   "outputs": [],
   "source": [
    "import requests"
   ]
  },
  {
   "cell_type": "code",
   "execution_count": 13,
   "metadata": {},
   "outputs": [],
   "source": [
    "url = 'https://www.mef.gob.pe/es/presentacion'\n"
   ]
  },
  {
   "cell_type": "code",
   "execution_count": 14,
   "metadata": {},
   "outputs": [],
   "source": [
    "text = requests.get(url)"
   ]
  },
  {
   "cell_type": "code",
   "execution_count": 15,
   "metadata": {},
   "outputs": [
    {
     "data": {
      "text/plain": [
       "200"
      ]
     },
     "execution_count": 15,
     "metadata": {},
     "output_type": "execute_result"
    }
   ],
   "source": [
    "text.status_code ###Codigo status http"
   ]
  },
  {
   "cell_type": "code",
   "execution_count": 16,
   "metadata": {},
   "outputs": [
    {
     "name": "stdout",
     "output_type": "stream",
     "text": [
      "<!DOCTYPE html PUBLIC \"-//W3C//DTD XHTML 1.0 Transitional//EN\" \"http://www.w3.org/TR/xhtml1/DTD/xhtml1-transitional.dtd\"> <html xmlns=\"http://www.w3.org/1999/xhtml\" xml:lang=\"es-es\" lang=\"es-es\" dir=\"ltr\" > <head> <meta http-equiv='X-UA-Compatible' content='IE=8'> <base href=\"https://www.mef.gob.pe/es/presentacion\" /> <meta http-equiv=\"content-type\" content=\"text/html; charset=utf-8\" /> <meta name=\"description\" content=\"Ministerio de Economía y Finanzas\" /> <meta name=\"generator\" content=\"Joomla! - Open Source Content Management\" /> <title>Presentación</title> <link href=\"/es/presentacion\" rel=\"canonical\" /> <link href=\"/templates/meftemplaten2.3bannerssubsites/favicon.ico\" rel=\"shortcut icon\" type=\"image/vnd.microsoft.icon\" /> <link rel=\"stylesheet\" href=\"/plugins/content/xtypo/themes/default/style.css\" type=\"text/css\" /> <style type=\"text/css\"> div.mod_search10083 input[type=\"search\"]{ width:auto; } </style> <script src=\"/plugins/content/xtypo/assets/script.js\" type=\"text/javascript\"></script> <script src=\"/media/jui/js/jquery.min.js\" type=\"text/javascript\"></script> <script src=\"/media/jui/js/jquery-noconflict.js\" type=\"text/javascript\"></script> <script src=\"/media/jui/js/jquery-migrate.min.js\" type=\"text/javascript\"></script> <script src=\"/media/jui/js/bootstrap.min.js\" type=\"text/javascript\"></script> <script src=\"/media/system/js/html5fallback.js\" type=\"text/javascript\"></script> <script type=\"text/javascript\"> jQuery(document).ready(function(){ jQuery('.hasTooltip').tooltip({\"html\": true,\"container\": \"body\"}); }); </script> <!--Carga de Hojas de Estilo del Sistema--> <link rel=\"stylesheet\" href=\"https://www.mef.gob.pe/templates/system/css/system.css\" type=\"text/css\" /> <link rel=\"stylesheet\" href=\"https://www.mef.gob.pe/templates/system/css/general.css\" type=\"text/css\" /> <!--Carga de Hojas de Estilo de la Plantilla--> <link rel=\"stylesheet\" href=\"https://www.mef.gob.pe/templates/meftemplaten2.3bannerssubsites/css/template.css\" type=\"text/css\"/> <!--[if IE 7]> <link rel=\"stylesheet\" href=\"https://www.mef.gob.pe/templates/meftemplaten2.3bannerssubsites/css/ie7.css\" type=\"text/css\" /> <![endif]--> <!--[if IE 8]> <link rel=\"stylesheet\" href=\"https://www.mef.gob.pe/templates/meftemplaten2.3bannerssubsites/css/ie8.css\" type=\"text/css\" /> <![endif]--> <!--[if IE 9]> <link rel=\"stylesheet\" href=\"https://www.mef.gob.pe/templates/meftemplaten2.3bannerssubsites/css/ie9.css\" type=\"text/css\" /> <![endif]--> <!--[if IE 10]> <link rel=\"stylesheet\" href=\"https://www.mef.gob.pe/templates/meftemplaten2.3bannerssubsites/css/ie10.css\" type=\"text/css\" /> <![endif]--> <meta http-equiv=\"Content-Type\" content=\"text/html; charset=utf-8\" /> <!-- Analizador web --> <script type=\"text/javascript\"> var _gaq = _gaq || []; _gaq.push(['_setAccount', 'UA-20570939-1']); _gaq.push(['_setDomainName', '.mef.gob.pe']); _gaq.push(['_trackPageview']); (function() { var ga = document.createElement('script'); ga.type = 'text/javascript'; ga.async = true; ga.src = ('https:' == document.location.protocol ? 'https://ssl' : 'http://www') + '.google-analytics.com/ga.js'; var s = document.getElementsByTagName('script')[0]; s.parentNode.insertBefore(ga, s); })(); </script> </head> <body class=\"inicio\"> <div id=\"contenedor-principal_interiores\"> <div id=\"contenedor-A\"> <div id=\"cabecera-inicial\"></div> <div id=\"cont_menutop\"> <div id=\"menu_nav1\"> <ul id=\"menu_top\"> <li> <div class=\"moduletable menu_nav1\"> <ul class=\"menu\"> <li class=\"item-100002\"><a href=\"/../../../\"><img src=\"/images/stories/icon-inicio.gif\" alt=\"Home\" /></a></li><li class=\"item-100003\"><a href=\"/es/contactenos\"><img src=\"/images/stories/icon-contac.gif\" alt=\"Contáctenos\" /> </a></li><li class=\"item-101571\"><a href=\"/es/correo-institucional\"><img src=\"/images/stories/icon-correo.gif\" alt=\"Correo Institucional\" /> </a></li><li class=\"item-100004\"><a href=\"/es/mapa-del-sitio\"><img src=\"/images/stories/icon-mapa.gif\" alt=\"Mapa del sitio\" /> </a></li></ul> </div> </li> </ul> </div> <div id=\"menu_nav2\"> <ul id=\"menu_top2\"> <li> <div class=\"moduletable_modmenunav2\"> <ul class=\"nav menu_menunav2\"> <li class=\"item-100005\"><a href=\"/es/glosario\" >Glosario</a></li><li class=\"item-100135 divider\"><span class=\"separator \"><img src=\"/images/stories/sep_menutop.jpg\" alt=\"\" /><span class=\"image-title\"></span></span> </li><li class=\"item-100006\"><a href=\"/es/preguntas-frecuentes\" >Preguntas Frecuentes</a></li><li class=\"item-100136 divider\"><span class=\"separator \"><img src=\"/images/stories/sep_menutop.jpg\" alt=\"\" /><span class=\"image-title\"></span></span> </li><li class=\"item-101462\"><a href=\"/?lang=en\" >English - Short version</a></li><li class=\"item-100137 divider\"><span class=\"separator \"><img src=\"/images/stories/sep_menutop.jpg\" alt=\"\" /><span class=\"image-title\"></span></span> </li><li class=\"item-100007\"><a href=\"/es/?option=com_wrapper&amp;view=wrapper&amp;Itemid=101731\" target=\"_blank\" >Portal de Transparencia</a></li><li class=\"item-102409\"><a href=\"/?option=com_wrapper&amp;view=wrapper&amp;Itemid=101731\" ><img src=\"/images/iconos/icono_pte.jpg\" alt=\"Lupa\" /></a></li></ul> </div> </li> </ul> </div> <!-- <div id=\"idioma\"> <ul id=\"menu_top3\"> <li> < ?php if($this->countModules('idioma')) : ?> < ?php endif; ?> </li> </ul> </div> <div id=\"separador\">&nbsp;</div>--> <div id=\"busqueda\"> <ul id=\"menu_top4\"> <li class=\"noborder\"> <div class=\"moduletable_busqueda\"> <div class=\"search_busqueda mod_search10083\"> <form action=\"/es/presentacion\" method=\"post\" class=\"form-inline\"> <label for=\"mod-search-searchword\" class=\"element-invisible\">Buscar...</label> <input name=\"searchword\" id=\"mod-search-searchword\" maxlength=\"200\" class=\"inputbox search-query\" type=\"search\" size=\"15\" placeholder=\"Buscar...\" /> <input type=\"hidden\" name=\"task\" value=\"search\" /> <input type=\"hidden\" name=\"option\" value=\"com_search\" /> <input type=\"hidden\" name=\"Itemid\" value=\"101131\" /> </form> </div> </div> </li> </ul> </div> </div> <div id=\"cont_banner_principal\"> <div id=\"regresar_mef\"> <div id=\"fecha\"><script src=\"/templates/mef_n2_3_bannersubsites/js/fecha.js\" type=\"text/javascript\"></script></div> </div> <div class=\"moduletable_banner_principal_subsite\"> <div class=\"bannergroup_banner_principal_subsite\"> <div class=\"banneritem\"> <a href=\"/es/component/banners/click/33\" title=\"Subsite Portal de Transparencia Económica\"> <img src=\"https://www.mef.gob.pe/images/banners/cabecera-info-eco.jpg\" alt=\"Subsite Portal de Transparencia Económica\" /> </a> <div class=\"clr\"></div> </div> </div> </div> </div> <div id=\"space_blanco2\">&nbsp;</div> <div id=\"contenido_interiores\" > <!-- MENU IZQUIERDO --> <div id=\"menu_izquierdo\"> <div id=\"menu_cont\"> <div class=\"moduletable_modmenulateral\"> <ul class=\"nav menu_menulateral\"> <li class=\"item-100931 current active\"><a href=\"/es/presentacion\" >Presentación</a></li><li class=\"item-100932\"><a href=\"/es/proyecciones-macroeconomicas\" >Proyecciones Macroeconómicas</a></li><li class=\"item-100944\"><a href=\"/es/seguimiento-de-la-ejecucion-presupuestal-consulta-amigable\" >Seguimiento de la Ejecución Presupuestal (Consulta amigable)</a></li><li class=\"item-100947 parent\"><a href=\"/es/seguimiento-a-las-acciones-prioritarias\" >Seguimiento a las Acciones Prioritarias</a></li><li class=\"item-100956 parent\"><a href=\"/es/transferencias-a-gobierno-nacional-regional-y-locales/que-es-y-como-muestra-la-consulta\" >Transferencias a Gobierno Nacional, Regional y Locales</a></li><li class=\"item-100967\"><a href=\"/es/recaudacion\" >Recaudación</a></li><li class=\"item-100970 parent\"><a href=\"/es/fondos-del-estado\" >Fondos del Estado</a></li><li class=\"item-100975 parent\"><a href=\"/es/provedores-del-estado/que-es-y-como-muestra-la-consulta\" >Provedores del Estado</a></li><li class=\"item-100982\"><a href=\"/es/consulta-de-deuda-publica\" >Consulta de Deuda Pública</a></li><li class=\"item-100995 parent\"><a href=\"/es/cuenta-general-de-la-republica-sp-26800/que-es-y-como-muestra-la-consulta\" >Cuenta General de la República</a></li><li class=\"item-100999\"><a href=\"/es/ejecucion-de-proyectos-de-inversion\" >Ejecución de Proyectos de Inversión</a></li><li class=\"item-101711\"><a href=\"/es/fonafe\" >Fonafe</a></li><li class=\"item-101004\"><a href=\"/es/preguntas-frecuentes-sp-24472\" >Preguntas Frecuentes</a></li><li class=\"item-101008\"><a href=\"/es/normas-legales\" >Normas Legales</a></li><li class=\"item-101009\"><a href=\"/es/manual-de-uso\" >Manuales de Uso</a></li><li class=\"item-101878 parent\"><a href=\"/es/documentacion-sp-3092/leyes-de-presupuesto-del-sector-publico\" >Documentación</a></li></ul> </div> </div> </div> <!-- FIN MENU IZQUIERDO --> <div id=\"space_blanco\">&nbsp;</div> <!-- CONTENIDO --> <div id=\"contenido\"> <!-- MAPA DEL SITIO --> <!-- < ?php if($this->countModules('n2_3_rutanav')) : ?> <div id=\"mapa_del_sitio\"> <div class=\"moduletable_ruta_acceso_subsites\"> <ul itemscope itemtype=\"https://schema.org/BreadcrumbList\" class=\"breadcrumb_ruta_acceso_subsites\"> <li> Está aquí: &#160; </li> <li itemprop=\"itemListElement\" itemscope itemtype=\"https://schema.org/ListItem\"> <a itemprop=\"item\" href=\"/es/\" class=\"pathway\"><span itemprop=\"name\">Inicio</span></a> <span class=\"divider\"> &gt;&gt; </span> <meta itemprop=\"position\" content=\"1\"> </li> <li itemprop=\"itemListElement\" itemscope itemtype=\"https://schema.org/ListItem\" class=\"active\"> <span itemprop=\"name\"> Presentación </span> <meta itemprop=\"position\" content=\"2\"> </li> </ul> </div> <div id=\"space_blanco2\">&nbsp;</div> </div> < ?php endif; ? > --> <!-- FIN MAPA DEL SITIO --> <div class=\"item-page\"> <h1> Presentación </h1> <h2 class=\"contentheading\"> ¿Qué es el Portal de Transparencia Económica? </h2> <p>&nbsp;</p> <p style=\"text-align: justify;\"><span class=\"texto_contenidos\">El Portal de Transparencia Econ&oacute;mica es una plataforma informativa de acceso libre que permite a cualquier usuario disponer, en tiempo real, de la m&aacute;s completa informaci&oacute;n econ&oacute;mica que haya podido centralizar el Ministerio de Econom&iacute;a y Finanzas (MEF), desde el Gobierno de Transici&oacute;n a la fecha.<br /><br /></span> </p> <p style=\"text-align: justify;\"><span class=\"texto_contenidos\"><br /><br />Est&aacute; compuesto de M&oacute;dulos de Consulta a Base de Datos con informaci&oacute;n financiera y presupuestal.</span> </p> <p style=\"text-align: justify;\"><span class=\"texto_contenidos\">El Portal se inaugur&oacute; oficialmente el 23 de febrero del 2001, siendo Ministro de Econom&iacute;a y Finanzas, el Dr. Javier Silva Ruete, cuando se entreg&oacute; al presidente de la Rep&uacute;blica, Dr. Valent&iacute;n Paniagua Corazao, el CD-ROM del Portal en un acto p&uacute;blico desarrollado en Palacio de Gobierno y en presencia del entonces&nbsp; presidente del Consejo de Ministros, Dr. Javier P&eacute;rez de Cuellar, del cuerpo diplom&aacute;tico acreditado en el Per&uacute;, empresarios y miembros de la prensa nacional. </span> </p> <div>&nbsp;</div> <p><span class=\"texto_contenidos\">.............................................................................................................................................................................................<br /></span> </p> <p><span class=\"texto_contenidos\"><br /><span class=\"titulo_3ernivel\">Objetivos del Portal</span></span> </p> <p><span class=\"texto_contenidos\"></span> </p> <p><span class=\"texto_contenidos\">Son objetivos del Portal de Transparencia Econ&oacute;mica:</span> </p> <ul> <li> <div style=\"text-align: justify;\"><span class=\"texto_contenidos\">Convertirse en la ventana de transparencia econ&oacute;mica del Estado</span> </div></li> <li> <div style=\"text-align: justify;\"><span class=\"texto_contenidos\">Brindar libre acceso a informaci&oacute;n econ&oacute;mica del Estado</span> </div></li> <li> <div style=\"text-align: justify;\"><span class=\"texto_contenidos\">Fomentar una cultura de transparencia en el Estado y la sociedad peruana</span> </div></li> <li> <div style=\"text-align: justify;\"><span class=\"texto_contenidos\">Promover una mayor fiscalizaci&oacute;n de la ciudadan&iacute;a respecto al Estado en su conjunto</span> </div></li> <li> <div style=\"text-align: justify;\"><span class=\"texto_contenidos\">Reducir riesgos de corrupci&oacute;n</span> </div></li> <li> <div style=\"text-align: justify;\"><span class=\"texto_contenidos\">Democratizar las decisiones del gobierno mediante una mayor y mejor participaci&oacute;n de la ciudadan&iacute;a.</span> </div></li> </ul> <p><span class=\"texto_contenidos\"></span> </p> <p><span class=\"texto_contenidos\">La creaci&oacute;n del Portal significa s&oacute;lo el inicio de un largo proceso que ha de conducirnos a un manejo moderno y transparente de la gesti&oacute;n p&uacute;blica, con una activa fiscalizaci&oacute;n de la ciudadan&iacute;a. La informaci&oacute;n que antes era secreta o s&oacute;lo disponible a altas autoridades, ha sido puesta a disposici&oacute;n de toda la ciudadan&iacute;a con la convicci&oacute;n que todas las personas tienen derecho a acceder libremente a la informaci&oacute;n p&uacute;blica.<br /><br />En la oportunidad de su presentaci&oacute;n, el presidente Paniagua expres&oacute; su satisfacci&oacute;n por el nacimiento del Portal se&ntilde;alando que dicho acto marcaba el inicio de un cambio estructural radical, no s&oacute;lo en la concepci&oacute;n de nuestro sistema democr&aacute;tico, sino en el sistema de conducci&oacute;n del Estado. \"Dir&iacute;ase, si no fuera una exageraci&oacute;n, que esto implica un nuevo pacto social\", coment&oacute; el Presidente al destacar la importancia del Portal para afianzar nuestra democracia.</span> </p> <div><span class=\"texto_contenidos\">..............................................................................................................................................................................................<br /><br /></span> <p><span class=\"titulo_3ernivel\">Actualizaci&oacute;n del Portal</span> </p> <p><span class=\"texto_contenidos\"></span> </p> <p><span class=\"texto_contenidos\">El Portal de Transparencia Econ&oacute;mica es actualizado diaria y mensualmente. B&aacute;sicamente, est&aacute; compuesto por Bases de Datos, cada una con capacidad de consulta por diferentes opciones. La informaci&oacute;n de base proviene de cada fuente, es decir, de la instituci&oacute;n responsable de su manejo.</span> </p> <p><span class=\"texto_contenidos\">..............................................................................................................................................................................................</span> </p> <p><span class=\"texto_contenidos\"></span> </p> <p><span class=\"titulo_3ernivel\">En el Portal Ud. podr&aacute; encontrar</span> </p> <p><span class=\"texto_contenidos\"></span> </p> <ul> <li><span class=\"texto_contenidos\">Informaci&oacute;n acerca de los principales indicadores y proyecciones de la econom&iacute;a,</span> </li> <li><span class=\"texto_contenidos\">Resumen de los Planes Estrat&eacute;gicos de los diferentes sectores del Estado</span> </li> <li><span class=\"texto_contenidos\">Gastos del Gobierno Central (SIAF-SP) - Base de Datos</span> </li> <li><span class=\"texto_contenidos\">Un directorio de las entidades p&uacute;blicas - Base de Datos</span> </li> <li><span class=\"texto_contenidos\">Los Estados Financieros de las Empresas P&uacute;blicas (FONAFE) - Base de datos</span> </li> <li><span class=\"texto_contenidos\">Los Estados Financieros del FONAHPU y FCR</span> </li> <li><span class=\"texto_contenidos\">Deuda Interna y Externa - Base de Datos</span> </li> <li><span class=\"texto_contenidos\">Proveedores del Estado: Consulta de cheques en cartera - Base de Datos</span> </li> </ul> <p><span class=\"texto_contenidos\"></span> </p> <p><span class=\"texto_contenidos\">....................................................................................................................................................................................................</span> </p> <p><span class=\"texto_contenidos\"></span> </p> <p><span class=\"texto_contenidos\"><span class=\"texto_linkeables\"><a href=\"/es/presentacion#top\">subir</a></span><br /> </span> </p> </div> </div> </div> <!-- FIN CONTENIDO --> </div> </div> </div> </body> </html> <script id=\"f5_cspm\">(function(){var f5_cspm={f5_p:'HDDPOGAPDDJNKEEEIEGKMCFEHHJJBLKOBPDNAJLNPCIDCEJDLOGNGGPKHJBFPGILEMAECBDJAMABCMLMMPGJBLOHBIEABKNMAAJNPEKNAHLDEDKJAAKPIIKAAOMKLDBK',setCharAt:function(str,index,chr){if(index>str.length-1)return str;return str.substr(0,index)+chr+str.substr(index+1);},get_byte:function(str,i){var s=(i/16)|0;i=(i&15);s=s*32;return((str.charCodeAt(i+16+s)-65)<<4)|(str.charCodeAt(i+s)-65);},set_byte:function(str,i,b){var s=(i/16)|0;i=(i&15);s=s*32;str=f5_cspm.setCharAt(str,(i+16+s),String.fromCharCode((b>>4)+65));str=f5_cspm.setCharAt(str,(i+s),String.fromCharCode((b&15)+65));return str;},set_latency:function(str,latency){latency=latency&0xffff;str=f5_cspm.set_byte(str,48,(latency>>8));str=f5_cspm.set_byte(str,49,(latency&0xff));str=f5_cspm.set_byte(str,43,2);return str;},wait_perf_data:function(){try{var wp=window.performance.timing;if(wp.loadEventEnd>0){var res=wp.loadEventEnd-wp.navigationStart;if(res<60001){var cookie_val=f5_cspm.set_latency(f5_cspm.f5_p,res);window.document.cookie='f5avr0994603588aaaaaaaaaaaaaaaa='+encodeURIComponent(cookie_val)+';path=/';}\n",
      "return;}}\n",
      "catch(err){return;}\n",
      "setTimeout(f5_cspm.wait_perf_data,100);return;},go:function(){var chunk=window.document.cookie.split(/\\s*;\\s*/);for(var i=0;i<chunk.length;++i){var pair=chunk[i].split(/\\s*=\\s*/);if(pair[0]=='f5_cspm'&&pair[1]=='1234')\n",
      "{var d=new Date();d.setTime(d.getTime()-1000);window.document.cookie='f5_cspm=;expires='+d.toUTCString()+';path=/;';setTimeout(f5_cspm.wait_perf_data,100);}}}}\n",
      "f5_cspm.go();}());</script>\n"
     ]
    }
   ],
   "source": [
    "print(text.text)"
   ]
  },
  {
   "cell_type": "code",
   "execution_count": 17,
   "metadata": {},
   "outputs": [
    {
     "data": {
      "text/plain": [
       "'<!DOCTYPE html PUBLIC \"-//W3C//DTD XHTML 1.0 Transitional//EN\" \"http://www.w3.org/TR/xhtml1/DTD/xhtml1-transitional.dtd\"> <html xmlns=\"http://www.w3.org/1999/xhtml\" xml:lang=\"es-es\" lang=\"es-es\" dir=\"ltr\" > <head> <meta http-equiv=\\'X-UA-Compatible\\' content=\\'IE=8\\'> <base href=\"https://www.mef.gob.pe/es/presentacion\" /> <meta http-equiv=\"content-type\" content=\"text/html; charset=utf-8\" /> <meta name=\"description\" content=\"Ministerio de Econom\\xc3\\xada y Finanzas\" /> <meta name=\"generator\" content=\"Joomla! - Open Source Content Management\" /> <title>Presentaci\\xc3\\xb3n</title> <link href=\"/es/presentacion\" rel=\"canonical\" /> <link href=\"/templates/meftemplaten2.3bannerssubsites/favicon.ico\" rel=\"shortcut icon\" type=\"image/vnd.microsoft.icon\" /> <link rel=\"stylesheet\" href=\"/plugins/content/xtypo/themes/default/style.css\" type=\"text/css\" /> <style type=\"text/css\"> div.mod_search10083 input[type=\"search\"]{ width:auto; } </style> <script src=\"/plugins/content/xtypo/assets/script.js\" type=\"text/javascript\"></script> <script src=\"/media/jui/js/jquery.min.js\" type=\"text/javascript\"></script> <script src=\"/media/jui/js/jquery-noconflict.js\" type=\"text/javascript\"></script> <script src=\"/media/jui/js/jquery-migrate.min.js\" type=\"text/javascript\"></script> <script src=\"/media/jui/js/bootstrap.min.js\" type=\"text/javascript\"></script> <script src=\"/media/system/js/html5fallback.js\" type=\"text/javascript\"></script> <script type=\"text/javascript\"> jQuery(document).ready(function(){ jQuery(\\'.hasTooltip\\').tooltip({\"html\": true,\"container\": \"body\"}); }); </script> <!--Carga de Hojas de Estilo del Sistema--> <link rel=\"stylesheet\" href=\"https://www.mef.gob.pe/templates/system/css/system.css\" type=\"text/css\" /> <link rel=\"stylesheet\" href=\"https://www.mef.gob.pe/templates/system/css/general.css\" type=\"text/css\" /> <!--Carga de Hojas de Estilo de la Plantilla--> <link rel=\"stylesheet\" href=\"https://www.mef.gob.pe/templates/meftemplaten2.3bannerssubsites/css/template.css\" type=\"text/css\"/> <!--[if IE 7]> <link rel=\"stylesheet\" href=\"https://www.mef.gob.pe/templates/meftemplaten2.3bannerssubsites/css/ie7.css\" type=\"text/css\" /> <![endif]--> <!--[if IE 8]> <link rel=\"stylesheet\" href=\"https://www.mef.gob.pe/templates/meftemplaten2.3bannerssubsites/css/ie8.css\" type=\"text/css\" /> <![endif]--> <!--[if IE 9]> <link rel=\"stylesheet\" href=\"https://www.mef.gob.pe/templates/meftemplaten2.3bannerssubsites/css/ie9.css\" type=\"text/css\" /> <![endif]--> <!--[if IE 10]> <link rel=\"stylesheet\" href=\"https://www.mef.gob.pe/templates/meftemplaten2.3bannerssubsites/css/ie10.css\" type=\"text/css\" /> <![endif]--> <meta http-equiv=\"Content-Type\" content=\"text/html; charset=utf-8\" /> <!-- Analizador web --> <script type=\"text/javascript\"> var _gaq = _gaq || []; _gaq.push([\\'_setAccount\\', \\'UA-20570939-1\\']); _gaq.push([\\'_setDomainName\\', \\'.mef.gob.pe\\']); _gaq.push([\\'_trackPageview\\']); (function() { var ga = document.createElement(\\'script\\'); ga.type = \\'text/javascript\\'; ga.async = true; ga.src = (\\'https:\\' == document.location.protocol ? \\'https://ssl\\' : \\'http://www\\') + \\'.google-analytics.com/ga.js\\'; var s = document.getElementsByTagName(\\'script\\')[0]; s.parentNode.insertBefore(ga, s); })(); </script> </head> <body class=\"inicio\"> <div id=\"contenedor-principal_interiores\"> <div id=\"contenedor-A\"> <div id=\"cabecera-inicial\"></div> <div id=\"cont_menutop\"> <div id=\"menu_nav1\"> <ul id=\"menu_top\"> <li> <div class=\"moduletable menu_nav1\"> <ul class=\"menu\"> <li class=\"item-100002\"><a href=\"/../../../\"><img src=\"/images/stories/icon-inicio.gif\" alt=\"Home\" /></a></li><li class=\"item-100003\"><a href=\"/es/contactenos\"><img src=\"/images/stories/icon-contac.gif\" alt=\"Cont\\xc3\\xa1ctenos\" /> </a></li><li class=\"item-101571\"><a href=\"/es/correo-institucional\"><img src=\"/images/stories/icon-correo.gif\" alt=\"Correo Institucional\" /> </a></li><li class=\"item-100004\"><a href=\"/es/mapa-del-sitio\"><img src=\"/images/stories/icon-mapa.gif\" alt=\"Mapa del sitio\" /> </a></li></ul> </div> </li> </ul> </div> <div id=\"menu_nav2\"> <ul id=\"menu_top2\"> <li> <div class=\"moduletable_modmenunav2\"> <ul class=\"nav menu_menunav2\"> <li class=\"item-100005\"><a href=\"/es/glosario\" >Glosario</a></li><li class=\"item-100135 divider\"><span class=\"separator \"><img src=\"/images/stories/sep_menutop.jpg\" alt=\"\" /><span class=\"image-title\"></span></span> </li><li class=\"item-100006\"><a href=\"/es/preguntas-frecuentes\" >Preguntas Frecuentes</a></li><li class=\"item-100136 divider\"><span class=\"separator \"><img src=\"/images/stories/sep_menutop.jpg\" alt=\"\" /><span class=\"image-title\"></span></span> </li><li class=\"item-101462\"><a href=\"/?lang=en\" >English - Short version</a></li><li class=\"item-100137 divider\"><span class=\"separator \"><img src=\"/images/stories/sep_menutop.jpg\" alt=\"\" /><span class=\"image-title\"></span></span> </li><li class=\"item-100007\"><a href=\"/es/?option=com_wrapper&amp;view=wrapper&amp;Itemid=101731\" target=\"_blank\" >Portal de Transparencia</a></li><li class=\"item-102409\"><a href=\"/?option=com_wrapper&amp;view=wrapper&amp;Itemid=101731\" ><img src=\"/images/iconos/icono_pte.jpg\" alt=\"Lupa\" /></a></li></ul> </div> </li> </ul> </div> <!-- <div id=\"idioma\"> <ul id=\"menu_top3\"> <li> < ?php if($this->countModules(\\'idioma\\')) : ?> < ?php endif; ?> </li> </ul> </div> <div id=\"separador\">&nbsp;</div>--> <div id=\"busqueda\"> <ul id=\"menu_top4\"> <li class=\"noborder\"> <div class=\"moduletable_busqueda\"> <div class=\"search_busqueda mod_search10083\"> <form action=\"/es/presentacion\" method=\"post\" class=\"form-inline\"> <label for=\"mod-search-searchword\" class=\"element-invisible\">Buscar...</label> <input name=\"searchword\" id=\"mod-search-searchword\" maxlength=\"200\" class=\"inputbox search-query\" type=\"search\" size=\"15\" placeholder=\"Buscar...\" /> <input type=\"hidden\" name=\"task\" value=\"search\" /> <input type=\"hidden\" name=\"option\" value=\"com_search\" /> <input type=\"hidden\" name=\"Itemid\" value=\"101131\" /> </form> </div> </div> </li> </ul> </div> </div> <div id=\"cont_banner_principal\"> <div id=\"regresar_mef\"> <div id=\"fecha\"><script src=\"/templates/mef_n2_3_bannersubsites/js/fecha.js\" type=\"text/javascript\"></script></div> </div> <div class=\"moduletable_banner_principal_subsite\"> <div class=\"bannergroup_banner_principal_subsite\"> <div class=\"banneritem\"> <a href=\"/es/component/banners/click/33\" title=\"Subsite Portal de Transparencia Econ\\xc3\\xb3mica\"> <img src=\"https://www.mef.gob.pe/images/banners/cabecera-info-eco.jpg\" alt=\"Subsite Portal de Transparencia Econ\\xc3\\xb3mica\" /> </a> <div class=\"clr\"></div> </div> </div> </div> </div> <div id=\"space_blanco2\">&nbsp;</div> <div id=\"contenido_interiores\" > <!-- MENU IZQUIERDO --> <div id=\"menu_izquierdo\"> <div id=\"menu_cont\"> <div class=\"moduletable_modmenulateral\"> <ul class=\"nav menu_menulateral\"> <li class=\"item-100931 current active\"><a href=\"/es/presentacion\" >Presentaci\\xc3\\xb3n</a></li><li class=\"item-100932\"><a href=\"/es/proyecciones-macroeconomicas\" >Proyecciones Macroecon\\xc3\\xb3micas</a></li><li class=\"item-100944\"><a href=\"/es/seguimiento-de-la-ejecucion-presupuestal-consulta-amigable\" >Seguimiento de la Ejecuci\\xc3\\xb3n Presupuestal (Consulta amigable)</a></li><li class=\"item-100947 parent\"><a href=\"/es/seguimiento-a-las-acciones-prioritarias\" >Seguimiento a las Acciones Prioritarias</a></li><li class=\"item-100956 parent\"><a href=\"/es/transferencias-a-gobierno-nacional-regional-y-locales/que-es-y-como-muestra-la-consulta\" >Transferencias a Gobierno Nacional, Regional y Locales</a></li><li class=\"item-100967\"><a href=\"/es/recaudacion\" >Recaudaci\\xc3\\xb3n</a></li><li class=\"item-100970 parent\"><a href=\"/es/fondos-del-estado\" >Fondos del Estado</a></li><li class=\"item-100975 parent\"><a href=\"/es/provedores-del-estado/que-es-y-como-muestra-la-consulta\" >Provedores del Estado</a></li><li class=\"item-100982\"><a href=\"/es/consulta-de-deuda-publica\" >Consulta de Deuda P\\xc3\\xbablica</a></li><li class=\"item-100995 parent\"><a href=\"/es/cuenta-general-de-la-republica-sp-26800/que-es-y-como-muestra-la-consulta\" >Cuenta General de la Rep\\xc3\\xbablica</a></li><li class=\"item-100999\"><a href=\"/es/ejecucion-de-proyectos-de-inversion\" >Ejecuci\\xc3\\xb3n de Proyectos de Inversi\\xc3\\xb3n</a></li><li class=\"item-101711\"><a href=\"/es/fonafe\" >Fonafe</a></li><li class=\"item-101004\"><a href=\"/es/preguntas-frecuentes-sp-24472\" >Preguntas Frecuentes</a></li><li class=\"item-101008\"><a href=\"/es/normas-legales\" >Normas Legales</a></li><li class=\"item-101009\"><a href=\"/es/manual-de-uso\" >Manuales de Uso</a></li><li class=\"item-101878 parent\"><a href=\"/es/documentacion-sp-3092/leyes-de-presupuesto-del-sector-publico\" >Documentaci\\xc3\\xb3n</a></li></ul> </div> </div> </div> <!-- FIN MENU IZQUIERDO --> <div id=\"space_blanco\">&nbsp;</div> <!-- CONTENIDO --> <div id=\"contenido\"> <!-- MAPA DEL SITIO --> <!-- < ?php if($this->countModules(\\'n2_3_rutanav\\')) : ?> <div id=\"mapa_del_sitio\"> <div class=\"moduletable_ruta_acceso_subsites\"> <ul itemscope itemtype=\"https://schema.org/BreadcrumbList\" class=\"breadcrumb_ruta_acceso_subsites\"> <li> Est\\xc3\\xa1 aqu\\xc3\\xad: &#160; </li> <li itemprop=\"itemListElement\" itemscope itemtype=\"https://schema.org/ListItem\"> <a itemprop=\"item\" href=\"/es/\" class=\"pathway\"><span itemprop=\"name\">Inicio</span></a> <span class=\"divider\"> &gt;&gt; </span> <meta itemprop=\"position\" content=\"1\"> </li> <li itemprop=\"itemListElement\" itemscope itemtype=\"https://schema.org/ListItem\" class=\"active\"> <span itemprop=\"name\"> Presentaci\\xc3\\xb3n </span> <meta itemprop=\"position\" content=\"2\"> </li> </ul> </div> <div id=\"space_blanco2\">&nbsp;</div> </div> < ?php endif; ? > --> <!-- FIN MAPA DEL SITIO --> <div class=\"item-page\"> <h1> Presentaci\\xc3\\xb3n </h1> <h2 class=\"contentheading\"> \\xc2\\xbfQu\\xc3\\xa9 es el Portal de Transparencia Econ\\xc3\\xb3mica? </h2> <p>&nbsp;</p> <p style=\"text-align: justify;\"><span class=\"texto_contenidos\">El Portal de Transparencia Econ&oacute;mica es una plataforma informativa de acceso libre que permite a cualquier usuario disponer, en tiempo real, de la m&aacute;s completa informaci&oacute;n econ&oacute;mica que haya podido centralizar el Ministerio de Econom&iacute;a y Finanzas (MEF), desde el Gobierno de Transici&oacute;n a la fecha.<br /><br /></span> </p> <p style=\"text-align: justify;\"><span class=\"texto_contenidos\"><br /><br />Est&aacute; compuesto de M&oacute;dulos de Consulta a Base de Datos con informaci&oacute;n financiera y presupuestal.</span> </p> <p style=\"text-align: justify;\"><span class=\"texto_contenidos\">El Portal se inaugur&oacute; oficialmente el 23 de febrero del 2001, siendo Ministro de Econom&iacute;a y Finanzas, el Dr. Javier Silva Ruete, cuando se entreg&oacute; al presidente de la Rep&uacute;blica, Dr. Valent&iacute;n Paniagua Corazao, el CD-ROM del Portal en un acto p&uacute;blico desarrollado en Palacio de Gobierno y en presencia del entonces&nbsp; presidente del Consejo de Ministros, Dr. Javier P&eacute;rez de Cuellar, del cuerpo diplom&aacute;tico acreditado en el Per&uacute;, empresarios y miembros de la prensa nacional. </span> </p> <div>&nbsp;</div> <p><span class=\"texto_contenidos\">.............................................................................................................................................................................................<br /></span> </p> <p><span class=\"texto_contenidos\"><br /><span class=\"titulo_3ernivel\">Objetivos del Portal</span></span> </p> <p><span class=\"texto_contenidos\"></span> </p> <p><span class=\"texto_contenidos\">Son objetivos del Portal de Transparencia Econ&oacute;mica:</span> </p> <ul> <li> <div style=\"text-align: justify;\"><span class=\"texto_contenidos\">Convertirse en la ventana de transparencia econ&oacute;mica del Estado</span> </div></li> <li> <div style=\"text-align: justify;\"><span class=\"texto_contenidos\">Brindar libre acceso a informaci&oacute;n econ&oacute;mica del Estado</span> </div></li> <li> <div style=\"text-align: justify;\"><span class=\"texto_contenidos\">Fomentar una cultura de transparencia en el Estado y la sociedad peruana</span> </div></li> <li> <div style=\"text-align: justify;\"><span class=\"texto_contenidos\">Promover una mayor fiscalizaci&oacute;n de la ciudadan&iacute;a respecto al Estado en su conjunto</span> </div></li> <li> <div style=\"text-align: justify;\"><span class=\"texto_contenidos\">Reducir riesgos de corrupci&oacute;n</span> </div></li> <li> <div style=\"text-align: justify;\"><span class=\"texto_contenidos\">Democratizar las decisiones del gobierno mediante una mayor y mejor participaci&oacute;n de la ciudadan&iacute;a.</span> </div></li> </ul> <p><span class=\"texto_contenidos\"></span> </p> <p><span class=\"texto_contenidos\">La creaci&oacute;n del Portal significa s&oacute;lo el inicio de un largo proceso que ha de conducirnos a un manejo moderno y transparente de la gesti&oacute;n p&uacute;blica, con una activa fiscalizaci&oacute;n de la ciudadan&iacute;a. La informaci&oacute;n que antes era secreta o s&oacute;lo disponible a altas autoridades, ha sido puesta a disposici&oacute;n de toda la ciudadan&iacute;a con la convicci&oacute;n que todas las personas tienen derecho a acceder libremente a la informaci&oacute;n p&uacute;blica.<br /><br />En la oportunidad de su presentaci&oacute;n, el presidente Paniagua expres&oacute; su satisfacci&oacute;n por el nacimiento del Portal se&ntilde;alando que dicho acto marcaba el inicio de un cambio estructural radical, no s&oacute;lo en la concepci&oacute;n de nuestro sistema democr&aacute;tico, sino en el sistema de conducci&oacute;n del Estado. \"Dir&iacute;ase, si no fuera una exageraci&oacute;n, que esto implica un nuevo pacto social\", coment&oacute; el Presidente al destacar la importancia del Portal para afianzar nuestra democracia.</span> </p> <div><span class=\"texto_contenidos\">..............................................................................................................................................................................................<br /><br /></span> <p><span class=\"titulo_3ernivel\">Actualizaci&oacute;n del Portal</span> </p> <p><span class=\"texto_contenidos\"></span> </p> <p><span class=\"texto_contenidos\">El Portal de Transparencia Econ&oacute;mica es actualizado diaria y mensualmente. B&aacute;sicamente, est&aacute; compuesto por Bases de Datos, cada una con capacidad de consulta por diferentes opciones. La informaci&oacute;n de base proviene de cada fuente, es decir, de la instituci&oacute;n responsable de su manejo.</span> </p> <p><span class=\"texto_contenidos\">..............................................................................................................................................................................................</span> </p> <p><span class=\"texto_contenidos\"></span> </p> <p><span class=\"titulo_3ernivel\">En el Portal Ud. podr&aacute; encontrar</span> </p> <p><span class=\"texto_contenidos\"></span> </p> <ul> <li><span class=\"texto_contenidos\">Informaci&oacute;n acerca de los principales indicadores y proyecciones de la econom&iacute;a,</span> </li> <li><span class=\"texto_contenidos\">Resumen de los Planes Estrat&eacute;gicos de los diferentes sectores del Estado</span> </li> <li><span class=\"texto_contenidos\">Gastos del Gobierno Central (SIAF-SP) - Base de Datos</span> </li> <li><span class=\"texto_contenidos\">Un directorio de las entidades p&uacute;blicas - Base de Datos</span> </li> <li><span class=\"texto_contenidos\">Los Estados Financieros de las Empresas P&uacute;blicas (FONAFE) - Base de datos</span> </li> <li><span class=\"texto_contenidos\">Los Estados Financieros del FONAHPU y FCR</span> </li> <li><span class=\"texto_contenidos\">Deuda Interna y Externa - Base de Datos</span> </li> <li><span class=\"texto_contenidos\">Proveedores del Estado: Consulta de cheques en cartera - Base de Datos</span> </li> </ul> <p><span class=\"texto_contenidos\"></span> </p> <p><span class=\"texto_contenidos\">....................................................................................................................................................................................................</span> </p> <p><span class=\"texto_contenidos\"></span> </p> <p><span class=\"texto_contenidos\"><span class=\"texto_linkeables\"><a href=\"/es/presentacion#top\">subir</a></span><br /> </span> </p> </div> </div> </div> <!-- FIN CONTENIDO --> </div> </div> </div> </body> </html> <script id=\"f5_cspm\">(function(){var f5_cspm={f5_p:\\'HDDPOGAPDDJNKEEEIEGKMCFEHHJJBLKOBPDNAJLNPCIDCEJDLOGNGGPKHJBFPGILEMAECBDJAMABCMLMMPGJBLOHBIEABKNMAAJNPEKNAHLDEDKJAAKPIIKAAOMKLDBK\\',setCharAt:function(str,index,chr){if(index>str.length-1)return str;return str.substr(0,index)+chr+str.substr(index+1);},get_byte:function(str,i){var s=(i/16)|0;i=(i&15);s=s*32;return((str.charCodeAt(i+16+s)-65)<<4)|(str.charCodeAt(i+s)-65);},set_byte:function(str,i,b){var s=(i/16)|0;i=(i&15);s=s*32;str=f5_cspm.setCharAt(str,(i+16+s),String.fromCharCode((b>>4)+65));str=f5_cspm.setCharAt(str,(i+s),String.fromCharCode((b&15)+65));return str;},set_latency:function(str,latency){latency=latency&0xffff;str=f5_cspm.set_byte(str,48,(latency>>8));str=f5_cspm.set_byte(str,49,(latency&0xff));str=f5_cspm.set_byte(str,43,2);return str;},wait_perf_data:function(){try{var wp=window.performance.timing;if(wp.loadEventEnd>0){var res=wp.loadEventEnd-wp.navigationStart;if(res<60001){var cookie_val=f5_cspm.set_latency(f5_cspm.f5_p,res);window.document.cookie=\\'f5avr0994603588aaaaaaaaaaaaaaaa=\\'+encodeURIComponent(cookie_val)+\\';path=/\\';}\\nreturn;}}\\ncatch(err){return;}\\nsetTimeout(f5_cspm.wait_perf_data,100);return;},go:function(){var chunk=window.document.cookie.split(/\\\\s*;\\\\s*/);for(var i=0;i<chunk.length;++i){var pair=chunk[i].split(/\\\\s*=\\\\s*/);if(pair[0]==\\'f5_cspm\\'&&pair[1]==\\'1234\\')\\n{var d=new Date();d.setTime(d.getTime()-1000);window.document.cookie=\\'f5_cspm=;expires=\\'+d.toUTCString()+\\';path=/;\\';setTimeout(f5_cspm.wait_perf_data,100);}}}}\\nf5_cspm.go();}());</script>'"
      ]
     },
     "execution_count": 17,
     "metadata": {},
     "output_type": "execute_result"
    }
   ],
   "source": [
    "text.content"
   ]
  },
  {
   "cell_type": "code",
   "execution_count": 18,
   "metadata": {},
   "outputs": [
    {
     "data": {
      "text/plain": [
       "{'Transfer-Encoding': 'chunked', 'Set-Cookie': 'd13fb52848428fc6e057d1f488a5480b=m5ab2njkgksopki78cp1qo2so3; path=/; HttpOnly, 6a6e4b481ae3eb1f044fb4d0fac4d230=es-ES; path=/; secure, f5avrbbbbbbbbbbbbbbbb=HFEJFPAPHDJMCGGEKEKIAIFEGHKHNILOKDINNLLNOCIDOEJDLBGNDENKHJBFPGILGMAECBDJAMADCMLMMOGJBLOHBIEABKNMBPKCHEJCHDAFHJCIIHKKHAKFBMGBCOIO; HttpOnly; secure, f5_cspm=1234;, TS010d8927=01c1c6ff7a439a400ee543f183c153fb57ac794efbeb340a026ab23a49f52b788d624215e75213965beee2fee7f08cd20261ee2af4; Path=/', 'Expires': 'Wed, 17 Aug 2005 00:00:00 GMT', 'Keep-Alive': 'timeout=15, max=100', 'Last-Modified': 'Mon, 06 Jul 2020 19:47:21 GMT', 'Connection': 'Keep-Alive', 'Pragma': 'no-cache', 'Cache-Control': 'no-store, no-cache, must-revalidate, post-check=0, pre-check=0', 'Date': 'Mon, 06 Jul 2020 19:47:20 GMT', 'P3P': 'CP=\"NOI ADM DEV PSAi COM NAV OUR OTRo STP IND DEM\"', 'Content-Type': 'text/html; charset=utf-8'}"
      ]
     },
     "execution_count": 18,
     "metadata": {},
     "output_type": "execute_result"
    }
   ],
   "source": [
    "text.headers"
   ]
  },
  {
   "cell_type": "code",
   "execution_count": 19,
   "metadata": {},
   "outputs": [
    {
     "data": {
      "text/plain": [
       "{'Connection': 'keep-alive', 'Accept-Encoding': 'gzip, deflate', 'Accept': '*/*', 'User-Agent': 'python-requests/2.20.0'}"
      ]
     },
     "execution_count": 19,
     "metadata": {},
     "output_type": "execute_result"
    }
   ],
   "source": [
    "text.request.headers"
   ]
  },
  {
   "cell_type": "code",
   "execution_count": 20,
   "metadata": {},
   "outputs": [
    {
     "data": {
      "text/plain": [
       "'GET'"
      ]
     },
     "execution_count": 20,
     "metadata": {},
     "output_type": "execute_result"
    }
   ],
   "source": [
    "text.request.method"
   ]
  },
  {
   "cell_type": "code",
   "execution_count": 21,
   "metadata": {},
   "outputs": [
    {
     "data": {
      "text/plain": [
       "'https://www.mef.gob.pe/es/presentacion'"
      ]
     },
     "execution_count": 21,
     "metadata": {},
     "output_type": "execute_result"
    }
   ],
   "source": [
    "text.request.url"
   ]
  },
  {
   "cell_type": "code",
   "execution_count": 22,
   "metadata": {},
   "outputs": [],
   "source": [
    "from bs4 import BeautifulSoup"
   ]
  },
  {
   "cell_type": "code",
   "execution_count": 23,
   "metadata": {},
   "outputs": [],
   "source": [
    "t= BeautifulSoup(text.text,\"lxml\")"
   ]
  },
  {
   "cell_type": "code",
   "execution_count": 24,
   "metadata": {},
   "outputs": [
    {
     "data": {
      "text/plain": [
       "bs4.BeautifulSoup"
      ]
     },
     "execution_count": 24,
     "metadata": {},
     "output_type": "execute_result"
    }
   ],
   "source": [
    "type(t)"
   ]
  },
  {
   "cell_type": "code",
   "execution_count": 25,
   "metadata": {},
   "outputs": [
    {
     "name": "stdout",
     "output_type": "stream",
     "text": [
      "<!DOCTYPE html PUBLIC \"-//W3C//DTD XHTML 1.0 Transitional//EN\" \"http://www.w3.org/TR/xhtml1/DTD/xhtml1-transitional.dtd\">\n",
      "<html dir=\"ltr\" lang=\"es-es\" xml:lang=\"es-es\" xmlns=\"http://www.w3.org/1999/xhtml\">\n",
      " <head>\n",
      "  <meta content=\"IE=8\" http-equiv=\"X-UA-Compatible\"/>\n",
      "  <base href=\"https://www.mef.gob.pe/es/presentacion\"/>\n",
      "  <meta content=\"text/html; charset=utf-8\" http-equiv=\"content-type\"/>\n",
      "  <meta content=\"Ministerio de Economía y Finanzas\" name=\"description\"/>\n",
      "  <meta content=\"Joomla! - Open Source Content Management\" name=\"generator\"/>\n",
      "  <title>\n",
      "   Presentación\n",
      "  </title>\n",
      "  <link href=\"/es/presentacion\" rel=\"canonical\"/>\n",
      "  <link href=\"/templates/meftemplaten2.3bannerssubsites/favicon.ico\" rel=\"shortcut icon\" type=\"image/vnd.microsoft.icon\"/>\n",
      "  <link href=\"/plugins/content/xtypo/themes/default/style.css\" rel=\"stylesheet\" type=\"text/css\"/>\n",
      "  <style type=\"text/css\">\n",
      "   div.mod_search10083 input[type=\"search\"]{ width:auto; }\n",
      "  </style>\n",
      "  <script src=\"/plugins/content/xtypo/assets/script.js\" type=\"text/javascript\">\n",
      "  </script>\n",
      "  <script src=\"/media/jui/js/jquery.min.js\" type=\"text/javascript\">\n",
      "  </script>\n",
      "  <script src=\"/media/jui/js/jquery-noconflict.js\" type=\"text/javascript\">\n",
      "  </script>\n",
      "  <script src=\"/media/jui/js/jquery-migrate.min.js\" type=\"text/javascript\">\n",
      "  </script>\n",
      "  <script src=\"/media/jui/js/bootstrap.min.js\" type=\"text/javascript\">\n",
      "  </script>\n",
      "  <script src=\"/media/system/js/html5fallback.js\" type=\"text/javascript\">\n",
      "  </script>\n",
      "  <script type=\"text/javascript\">\n",
      "   jQuery(document).ready(function(){ jQuery('.hasTooltip').tooltip({\"html\": true,\"container\": \"body\"}); });\n",
      "  </script>\n",
      "  <!--Carga de Hojas de Estilo del Sistema-->\n",
      "  <link href=\"https://www.mef.gob.pe/templates/system/css/system.css\" rel=\"stylesheet\" type=\"text/css\"/>\n",
      "  <link href=\"https://www.mef.gob.pe/templates/system/css/general.css\" rel=\"stylesheet\" type=\"text/css\"/>\n",
      "  <!--Carga de Hojas de Estilo de la Plantilla-->\n",
      "  <link href=\"https://www.mef.gob.pe/templates/meftemplaten2.3bannerssubsites/css/template.css\" rel=\"stylesheet\" type=\"text/css\"/>\n",
      "  <!--[if IE 7]> <link rel=\"stylesheet\" href=\"https://www.mef.gob.pe/templates/meftemplaten2.3bannerssubsites/css/ie7.css\" type=\"text/css\" /> <![endif]-->\n",
      "  <!--[if IE 8]> <link rel=\"stylesheet\" href=\"https://www.mef.gob.pe/templates/meftemplaten2.3bannerssubsites/css/ie8.css\" type=\"text/css\" /> <![endif]-->\n",
      "  <!--[if IE 9]> <link rel=\"stylesheet\" href=\"https://www.mef.gob.pe/templates/meftemplaten2.3bannerssubsites/css/ie9.css\" type=\"text/css\" /> <![endif]-->\n",
      "  <!--[if IE 10]> <link rel=\"stylesheet\" href=\"https://www.mef.gob.pe/templates/meftemplaten2.3bannerssubsites/css/ie10.css\" type=\"text/css\" /> <![endif]-->\n",
      "  <meta content=\"text/html; charset=utf-8\" http-equiv=\"Content-Type\"/>\n",
      "  <!-- Analizador web -->\n",
      "  <script type=\"text/javascript\">\n",
      "   var _gaq = _gaq || []; _gaq.push(['_setAccount', 'UA-20570939-1']); _gaq.push(['_setDomainName', '.mef.gob.pe']); _gaq.push(['_trackPageview']); (function() { var ga = document.createElement('script'); ga.type = 'text/javascript'; ga.async = true; ga.src = ('https:' == document.location.protocol ? 'https://ssl' : 'http://www') + '.google-analytics.com/ga.js'; var s = document.getElementsByTagName('script')[0]; s.parentNode.insertBefore(ga, s); })();\n",
      "  </script>\n",
      " </head>\n",
      " <body class=\"inicio\">\n",
      "  <div id=\"contenedor-principal_interiores\">\n",
      "   <div id=\"contenedor-A\">\n",
      "    <div id=\"cabecera-inicial\">\n",
      "    </div>\n",
      "    <div id=\"cont_menutop\">\n",
      "     <div id=\"menu_nav1\">\n",
      "      <ul id=\"menu_top\">\n",
      "       <li>\n",
      "        <div class=\"moduletable menu_nav1\">\n",
      "         <ul class=\"menu\">\n",
      "          <li class=\"item-100002\">\n",
      "           <a href=\"/../../../\">\n",
      "            <img alt=\"Home\" src=\"/images/stories/icon-inicio.gif\"/>\n",
      "           </a>\n",
      "          </li>\n",
      "          <li class=\"item-100003\">\n",
      "           <a href=\"/es/contactenos\">\n",
      "            <img alt=\"Contáctenos\" src=\"/images/stories/icon-contac.gif\"/>\n",
      "           </a>\n",
      "          </li>\n",
      "          <li class=\"item-101571\">\n",
      "           <a href=\"/es/correo-institucional\">\n",
      "            <img alt=\"Correo Institucional\" src=\"/images/stories/icon-correo.gif\"/>\n",
      "           </a>\n",
      "          </li>\n",
      "          <li class=\"item-100004\">\n",
      "           <a href=\"/es/mapa-del-sitio\">\n",
      "            <img alt=\"Mapa del sitio\" src=\"/images/stories/icon-mapa.gif\"/>\n",
      "           </a>\n",
      "          </li>\n",
      "         </ul>\n",
      "        </div>\n",
      "       </li>\n",
      "      </ul>\n",
      "     </div>\n",
      "     <div id=\"menu_nav2\">\n",
      "      <ul id=\"menu_top2\">\n",
      "       <li>\n",
      "        <div class=\"moduletable_modmenunav2\">\n",
      "         <ul class=\"nav menu_menunav2\">\n",
      "          <li class=\"item-100005\">\n",
      "           <a href=\"/es/glosario\">\n",
      "            Glosario\n",
      "           </a>\n",
      "          </li>\n",
      "          <li class=\"item-100135 divider\">\n",
      "           <span class=\"separator \">\n",
      "            <img alt=\"\" src=\"/images/stories/sep_menutop.jpg\"/>\n",
      "            <span class=\"image-title\">\n",
      "            </span>\n",
      "           </span>\n",
      "          </li>\n",
      "          <li class=\"item-100006\">\n",
      "           <a href=\"/es/preguntas-frecuentes\">\n",
      "            Preguntas Frecuentes\n",
      "           </a>\n",
      "          </li>\n",
      "          <li class=\"item-100136 divider\">\n",
      "           <span class=\"separator \">\n",
      "            <img alt=\"\" src=\"/images/stories/sep_menutop.jpg\"/>\n",
      "            <span class=\"image-title\">\n",
      "            </span>\n",
      "           </span>\n",
      "          </li>\n",
      "          <li class=\"item-101462\">\n",
      "           <a href=\"/?lang=en\">\n",
      "            English - Short version\n",
      "           </a>\n",
      "          </li>\n",
      "          <li class=\"item-100137 divider\">\n",
      "           <span class=\"separator \">\n",
      "            <img alt=\"\" src=\"/images/stories/sep_menutop.jpg\"/>\n",
      "            <span class=\"image-title\">\n",
      "            </span>\n",
      "           </span>\n",
      "          </li>\n",
      "          <li class=\"item-100007\">\n",
      "           <a href=\"/es/?option=com_wrapper&amp;view=wrapper&amp;Itemid=101731\" target=\"_blank\">\n",
      "            Portal de Transparencia\n",
      "           </a>\n",
      "          </li>\n",
      "          <li class=\"item-102409\">\n",
      "           <a href=\"/?option=com_wrapper&amp;view=wrapper&amp;Itemid=101731\">\n",
      "            <img alt=\"Lupa\" src=\"/images/iconos/icono_pte.jpg\"/>\n",
      "           </a>\n",
      "          </li>\n",
      "         </ul>\n",
      "        </div>\n",
      "       </li>\n",
      "      </ul>\n",
      "     </div>\n",
      "     <!-- <div id=\"idioma\"> <ul id=\"menu_top3\"> <li> < ?php if($this->countModules('idioma')) : ?> < ?php endif; ?> </li> </ul> </div> <div id=\"separador\">&nbsp;</div>-->\n",
      "     <div id=\"busqueda\">\n",
      "      <ul id=\"menu_top4\">\n",
      "       <li class=\"noborder\">\n",
      "        <div class=\"moduletable_busqueda\">\n",
      "         <div class=\"search_busqueda mod_search10083\">\n",
      "          <form action=\"/es/presentacion\" class=\"form-inline\" method=\"post\">\n",
      "           <label class=\"element-invisible\" for=\"mod-search-searchword\">\n",
      "            Buscar...\n",
      "           </label>\n",
      "           <input class=\"inputbox search-query\" id=\"mod-search-searchword\" maxlength=\"200\" name=\"searchword\" placeholder=\"Buscar...\" size=\"15\" type=\"search\"/>\n",
      "           <input name=\"task\" type=\"hidden\" value=\"search\"/>\n",
      "           <input name=\"option\" type=\"hidden\" value=\"com_search\"/>\n",
      "           <input name=\"Itemid\" type=\"hidden\" value=\"101131\"/>\n",
      "          </form>\n",
      "         </div>\n",
      "        </div>\n",
      "       </li>\n",
      "      </ul>\n",
      "     </div>\n",
      "    </div>\n",
      "    <div id=\"cont_banner_principal\">\n",
      "     <div id=\"regresar_mef\">\n",
      "      <div id=\"fecha\">\n",
      "       <script src=\"/templates/mef_n2_3_bannersubsites/js/fecha.js\" type=\"text/javascript\">\n",
      "       </script>\n",
      "      </div>\n",
      "     </div>\n",
      "     <div class=\"moduletable_banner_principal_subsite\">\n",
      "      <div class=\"bannergroup_banner_principal_subsite\">\n",
      "       <div class=\"banneritem\">\n",
      "        <a href=\"/es/component/banners/click/33\" title=\"Subsite Portal de Transparencia Económica\">\n",
      "         <img alt=\"Subsite Portal de Transparencia Económica\" src=\"https://www.mef.gob.pe/images/banners/cabecera-info-eco.jpg\"/>\n",
      "        </a>\n",
      "        <div class=\"clr\">\n",
      "        </div>\n",
      "       </div>\n",
      "      </div>\n",
      "     </div>\n",
      "    </div>\n",
      "    <div id=\"space_blanco2\">\n",
      "    </div>\n",
      "    <div id=\"contenido_interiores\">\n",
      "     <!-- MENU IZQUIERDO -->\n",
      "     <div id=\"menu_izquierdo\">\n",
      "      <div id=\"menu_cont\">\n",
      "       <div class=\"moduletable_modmenulateral\">\n",
      "        <ul class=\"nav menu_menulateral\">\n",
      "         <li class=\"item-100931 current active\">\n",
      "          <a href=\"/es/presentacion\">\n",
      "           Presentación\n",
      "          </a>\n",
      "         </li>\n",
      "         <li class=\"item-100932\">\n",
      "          <a href=\"/es/proyecciones-macroeconomicas\">\n",
      "           Proyecciones Macroeconómicas\n",
      "          </a>\n",
      "         </li>\n",
      "         <li class=\"item-100944\">\n",
      "          <a href=\"/es/seguimiento-de-la-ejecucion-presupuestal-consulta-amigable\">\n",
      "           Seguimiento de la Ejecución Presupuestal (Consulta amigable)\n",
      "          </a>\n",
      "         </li>\n",
      "         <li class=\"item-100947 parent\">\n",
      "          <a href=\"/es/seguimiento-a-las-acciones-prioritarias\">\n",
      "           Seguimiento a las Acciones Prioritarias\n",
      "          </a>\n",
      "         </li>\n",
      "         <li class=\"item-100956 parent\">\n",
      "          <a href=\"/es/transferencias-a-gobierno-nacional-regional-y-locales/que-es-y-como-muestra-la-consulta\">\n",
      "           Transferencias a Gobierno Nacional, Regional y Locales\n",
      "          </a>\n",
      "         </li>\n",
      "         <li class=\"item-100967\">\n",
      "          <a href=\"/es/recaudacion\">\n",
      "           Recaudación\n",
      "          </a>\n",
      "         </li>\n",
      "         <li class=\"item-100970 parent\">\n",
      "          <a href=\"/es/fondos-del-estado\">\n",
      "           Fondos del Estado\n",
      "          </a>\n",
      "         </li>\n",
      "         <li class=\"item-100975 parent\">\n",
      "          <a href=\"/es/provedores-del-estado/que-es-y-como-muestra-la-consulta\">\n",
      "           Provedores del Estado\n",
      "          </a>\n",
      "         </li>\n",
      "         <li class=\"item-100982\">\n",
      "          <a href=\"/es/consulta-de-deuda-publica\">\n",
      "           Consulta de Deuda Pública\n",
      "          </a>\n",
      "         </li>\n",
      "         <li class=\"item-100995 parent\">\n",
      "          <a href=\"/es/cuenta-general-de-la-republica-sp-26800/que-es-y-como-muestra-la-consulta\">\n",
      "           Cuenta General de la República\n",
      "          </a>\n",
      "         </li>\n",
      "         <li class=\"item-100999\">\n",
      "          <a href=\"/es/ejecucion-de-proyectos-de-inversion\">\n",
      "           Ejecución de Proyectos de Inversión\n",
      "          </a>\n",
      "         </li>\n",
      "         <li class=\"item-101711\">\n",
      "          <a href=\"/es/fonafe\">\n",
      "           Fonafe\n",
      "          </a>\n",
      "         </li>\n",
      "         <li class=\"item-101004\">\n",
      "          <a href=\"/es/preguntas-frecuentes-sp-24472\">\n",
      "           Preguntas Frecuentes\n",
      "          </a>\n",
      "         </li>\n",
      "         <li class=\"item-101008\">\n",
      "          <a href=\"/es/normas-legales\">\n",
      "           Normas Legales\n",
      "          </a>\n",
      "         </li>\n",
      "         <li class=\"item-101009\">\n",
      "          <a href=\"/es/manual-de-uso\">\n",
      "           Manuales de Uso\n",
      "          </a>\n",
      "         </li>\n",
      "         <li class=\"item-101878 parent\">\n",
      "          <a href=\"/es/documentacion-sp-3092/leyes-de-presupuesto-del-sector-publico\">\n",
      "           Documentación\n",
      "          </a>\n",
      "         </li>\n",
      "        </ul>\n",
      "       </div>\n",
      "      </div>\n",
      "     </div>\n",
      "     <!-- FIN MENU IZQUIERDO -->\n",
      "     <div id=\"space_blanco\">\n",
      "     </div>\n",
      "     <!-- CONTENIDO -->\n",
      "     <div id=\"contenido\">\n",
      "      <!-- MAPA DEL SITIO -->\n",
      "      <!-- < ?php if($this->countModules('n2_3_rutanav')) : ?> <div id=\"mapa_del_sitio\"> <div class=\"moduletable_ruta_acceso_subsites\"> <ul itemscope itemtype=\"https://schema.org/BreadcrumbList\" class=\"breadcrumb_ruta_acceso_subsites\"> <li> Está aquí: &#160; </li> <li itemprop=\"itemListElement\" itemscope itemtype=\"https://schema.org/ListItem\"> <a itemprop=\"item\" href=\"/es/\" class=\"pathway\"><span itemprop=\"name\">Inicio</span></a> <span class=\"divider\"> &gt;&gt; </span> <meta itemprop=\"position\" content=\"1\"> </li> <li itemprop=\"itemListElement\" itemscope itemtype=\"https://schema.org/ListItem\" class=\"active\"> <span itemprop=\"name\"> Presentación </span> <meta itemprop=\"position\" content=\"2\"> </li> </ul> </div> <div id=\"space_blanco2\">&nbsp;</div> </div> < ?php endif; ? > -->\n",
      "      <!-- FIN MAPA DEL SITIO -->\n",
      "      <div class=\"item-page\">\n",
      "       <h1>\n",
      "        Presentación\n",
      "       </h1>\n",
      "       <h2 class=\"contentheading\">\n",
      "        ¿Qué es el Portal de Transparencia Económica?\n",
      "       </h2>\n",
      "       <p>\n",
      "       </p>\n",
      "       <p style=\"text-align: justify;\">\n",
      "        <span class=\"texto_contenidos\">\n",
      "         El Portal de Transparencia Económica es una plataforma informativa de acceso libre que permite a cualquier usuario disponer, en tiempo real, de la más completa información económica que haya podido centralizar el Ministerio de Economía y Finanzas (MEF), desde el Gobierno de Transición a la fecha.\n",
      "         <br/>\n",
      "         <br/>\n",
      "        </span>\n",
      "       </p>\n",
      "       <p style=\"text-align: justify;\">\n",
      "        <span class=\"texto_contenidos\">\n",
      "         <br/>\n",
      "         <br/>\n",
      "         Está compuesto de Módulos de Consulta a Base de Datos con información financiera y presupuestal.\n",
      "        </span>\n",
      "       </p>\n",
      "       <p style=\"text-align: justify;\">\n",
      "        <span class=\"texto_contenidos\">\n",
      "         El Portal se inauguró oficialmente el 23 de febrero del 2001, siendo Ministro de Economía y Finanzas, el Dr. Javier Silva Ruete, cuando se entregó al presidente de la República, Dr. Valentín Paniagua Corazao, el CD-ROM del Portal en un acto público desarrollado en Palacio de Gobierno y en presencia del entonces  presidente del Consejo de Ministros, Dr. Javier Pérez de Cuellar, del cuerpo diplomático acreditado en el Perú, empresarios y miembros de la prensa nacional.\n",
      "        </span>\n",
      "       </p>\n",
      "       <div>\n",
      "       </div>\n",
      "       <p>\n",
      "        <span class=\"texto_contenidos\">\n",
      "         .............................................................................................................................................................................................\n",
      "         <br/>\n",
      "        </span>\n",
      "       </p>\n",
      "       <p>\n",
      "        <span class=\"texto_contenidos\">\n",
      "         <br/>\n",
      "         <span class=\"titulo_3ernivel\">\n",
      "          Objetivos del Portal\n",
      "         </span>\n",
      "        </span>\n",
      "       </p>\n",
      "       <p>\n",
      "        <span class=\"texto_contenidos\">\n",
      "        </span>\n",
      "       </p>\n",
      "       <p>\n",
      "        <span class=\"texto_contenidos\">\n",
      "         Son objetivos del Portal de Transparencia Económica:\n",
      "        </span>\n",
      "       </p>\n",
      "       <ul>\n",
      "        <li>\n",
      "         <div style=\"text-align: justify;\">\n",
      "          <span class=\"texto_contenidos\">\n",
      "           Convertirse en la ventana de transparencia económica del Estado\n",
      "          </span>\n",
      "         </div>\n",
      "        </li>\n",
      "        <li>\n",
      "         <div style=\"text-align: justify;\">\n",
      "          <span class=\"texto_contenidos\">\n",
      "           Brindar libre acceso a información económica del Estado\n",
      "          </span>\n",
      "         </div>\n",
      "        </li>\n",
      "        <li>\n",
      "         <div style=\"text-align: justify;\">\n",
      "          <span class=\"texto_contenidos\">\n",
      "           Fomentar una cultura de transparencia en el Estado y la sociedad peruana\n",
      "          </span>\n",
      "         </div>\n",
      "        </li>\n",
      "        <li>\n",
      "         <div style=\"text-align: justify;\">\n",
      "          <span class=\"texto_contenidos\">\n",
      "           Promover una mayor fiscalización de la ciudadanía respecto al Estado en su conjunto\n",
      "          </span>\n",
      "         </div>\n",
      "        </li>\n",
      "        <li>\n",
      "         <div style=\"text-align: justify;\">\n",
      "          <span class=\"texto_contenidos\">\n",
      "           Reducir riesgos de corrupción\n",
      "          </span>\n",
      "         </div>\n",
      "        </li>\n",
      "        <li>\n",
      "         <div style=\"text-align: justify;\">\n",
      "          <span class=\"texto_contenidos\">\n",
      "           Democratizar las decisiones del gobierno mediante una mayor y mejor participación de la ciudadanía.\n",
      "          </span>\n",
      "         </div>\n",
      "        </li>\n",
      "       </ul>\n",
      "       <p>\n",
      "        <span class=\"texto_contenidos\">\n",
      "        </span>\n",
      "       </p>\n",
      "       <p>\n",
      "        <span class=\"texto_contenidos\">\n",
      "         La creación del Portal significa sólo el inicio de un largo proceso que ha de conducirnos a un manejo moderno y transparente de la gestión pública, con una activa fiscalización de la ciudadanía. La información que antes era secreta o sólo disponible a altas autoridades, ha sido puesta a disposición de toda la ciudadanía con la convicción que todas las personas tienen derecho a acceder libremente a la información pública.\n",
      "         <br/>\n",
      "         <br/>\n",
      "         En la oportunidad de su presentación, el presidente Paniagua expresó su satisfacción por el nacimiento del Portal señalando que dicho acto marcaba el inicio de un cambio estructural radical, no sólo en la concepción de nuestro sistema democrático, sino en el sistema de conducción del Estado. \"Diríase, si no fuera una exageración, que esto implica un nuevo pacto social\", comentó el Presidente al destacar la importancia del Portal para afianzar nuestra democracia.\n",
      "        </span>\n",
      "       </p>\n",
      "       <div>\n",
      "        <span class=\"texto_contenidos\">\n",
      "         ..............................................................................................................................................................................................\n",
      "         <br/>\n",
      "         <br/>\n",
      "        </span>\n",
      "        <p>\n",
      "         <span class=\"titulo_3ernivel\">\n",
      "          Actualización del Portal\n",
      "         </span>\n",
      "        </p>\n",
      "        <p>\n",
      "         <span class=\"texto_contenidos\">\n",
      "         </span>\n",
      "        </p>\n",
      "        <p>\n",
      "         <span class=\"texto_contenidos\">\n",
      "          El Portal de Transparencia Económica es actualizado diaria y mensualmente. Básicamente, está compuesto por Bases de Datos, cada una con capacidad de consulta por diferentes opciones. La información de base proviene de cada fuente, es decir, de la institución responsable de su manejo.\n",
      "         </span>\n",
      "        </p>\n",
      "        <p>\n",
      "         <span class=\"texto_contenidos\">\n",
      "          ..............................................................................................................................................................................................\n",
      "         </span>\n",
      "        </p>\n",
      "        <p>\n",
      "         <span class=\"texto_contenidos\">\n",
      "         </span>\n",
      "        </p>\n",
      "        <p>\n",
      "         <span class=\"titulo_3ernivel\">\n",
      "          En el Portal Ud. podrá encontrar\n",
      "         </span>\n",
      "        </p>\n",
      "        <p>\n",
      "         <span class=\"texto_contenidos\">\n",
      "         </span>\n",
      "        </p>\n",
      "        <ul>\n",
      "         <li>\n",
      "          <span class=\"texto_contenidos\">\n",
      "           Información acerca de los principales indicadores y proyecciones de la economía,\n",
      "          </span>\n",
      "         </li>\n",
      "         <li>\n",
      "          <span class=\"texto_contenidos\">\n",
      "           Resumen de los Planes Estratégicos de los diferentes sectores del Estado\n",
      "          </span>\n",
      "         </li>\n",
      "         <li>\n",
      "          <span class=\"texto_contenidos\">\n",
      "           Gastos del Gobierno Central (SIAF-SP) - Base de Datos\n",
      "          </span>\n",
      "         </li>\n",
      "         <li>\n",
      "          <span class=\"texto_contenidos\">\n",
      "           Un directorio de las entidades públicas - Base de Datos\n",
      "          </span>\n",
      "         </li>\n",
      "         <li>\n",
      "          <span class=\"texto_contenidos\">\n",
      "           Los Estados Financieros de las Empresas Públicas (FONAFE) - Base de datos\n",
      "          </span>\n",
      "         </li>\n",
      "         <li>\n",
      "          <span class=\"texto_contenidos\">\n",
      "           Los Estados Financieros del FONAHPU y FCR\n",
      "          </span>\n",
      "         </li>\n",
      "         <li>\n",
      "          <span class=\"texto_contenidos\">\n",
      "           Deuda Interna y Externa - Base de Datos\n",
      "          </span>\n",
      "         </li>\n",
      "         <li>\n",
      "          <span class=\"texto_contenidos\">\n",
      "           Proveedores del Estado: Consulta de cheques en cartera - Base de Datos\n",
      "          </span>\n",
      "         </li>\n",
      "        </ul>\n",
      "        <p>\n",
      "         <span class=\"texto_contenidos\">\n",
      "         </span>\n",
      "        </p>\n",
      "        <p>\n",
      "         <span class=\"texto_contenidos\">\n",
      "          ....................................................................................................................................................................................................\n",
      "         </span>\n",
      "        </p>\n",
      "        <p>\n",
      "         <span class=\"texto_contenidos\">\n",
      "         </span>\n",
      "        </p>\n",
      "        <p>\n",
      "         <span class=\"texto_contenidos\">\n",
      "          <span class=\"texto_linkeables\">\n",
      "           <a href=\"/es/presentacion#top\">\n",
      "            subir\n",
      "           </a>\n",
      "          </span>\n",
      "          <br/>\n",
      "         </span>\n",
      "        </p>\n",
      "       </div>\n",
      "      </div>\n",
      "     </div>\n",
      "     <!-- FIN CONTENIDO -->\n",
      "    </div>\n",
      "   </div>\n",
      "  </div>\n",
      " </body>\n",
      "</html>\n",
      "\n"
     ]
    }
   ],
   "source": [
    "print(t.prettify())"
   ]
  },
  {
   "cell_type": "code",
   "execution_count": 26,
   "metadata": {},
   "outputs": [],
   "source": [
    "secciones = t.find('div', attrs= {'class':'moduletable_modmenulateral'}).find_all('li')"
   ]
  },
  {
   "cell_type": "code",
   "execution_count": null,
   "metadata": {},
   "outputs": [],
   "source": []
  },
  {
   "cell_type": "code",
   "execution_count": 27,
   "metadata": {},
   "outputs": [],
   "source": [
    "seccion = secciones[0]"
   ]
  },
  {
   "cell_type": "code",
   "execution_count": 28,
   "metadata": {},
   "outputs": [
    {
     "data": {
      "text/plain": [
       "<li class=\"item-100931 current active\"><a href=\"/es/presentacion\">Presentaci\\xf3n</a></li>"
      ]
     },
     "execution_count": 28,
     "metadata": {},
     "output_type": "execute_result"
    }
   ],
   "source": [
    "seccion"
   ]
  },
  {
   "cell_type": "code",
   "execution_count": 29,
   "metadata": {},
   "outputs": [
    {
     "data": {
      "text/plain": [
       "<a href=\"/es/presentacion\">Presentaci\\xf3n</a>"
      ]
     },
     "execution_count": 29,
     "metadata": {},
     "output_type": "execute_result"
    }
   ],
   "source": [
    "seccion.find('a')"
   ]
  },
  {
   "cell_type": "code",
   "execution_count": 30,
   "metadata": {},
   "outputs": [
    {
     "data": {
      "text/plain": [
       "<a href=\"/es/presentacion\">Presentaci\\xf3n</a>"
      ]
     },
     "execution_count": 30,
     "metadata": {},
     "output_type": "execute_result"
    }
   ],
   "source": [
    "seccion.a"
   ]
  },
  {
   "cell_type": "code",
   "execution_count": 31,
   "metadata": {},
   "outputs": [
    {
     "data": {
      "text/plain": [
       "u'Presentaci\\xf3n'"
      ]
     },
     "execution_count": 31,
     "metadata": {},
     "output_type": "execute_result"
    }
   ],
   "source": [
    "seccion.a.get_text()"
   ]
  },
  {
   "cell_type": "code",
   "execution_count": 32,
   "metadata": {},
   "outputs": [],
   "source": [
    "url_main = 'https://www.mef.gob.pe'"
   ]
  },
  {
   "cell_type": "code",
   "execution_count": 33,
   "metadata": {},
   "outputs": [
    {
     "data": {
      "text/plain": [
       "'/es/presentacion'"
      ]
     },
     "execution_count": 33,
     "metadata": {},
     "output_type": "execute_result"
    }
   ],
   "source": [
    "link = seccion.a.get('href')\n",
    "link"
   ]
  },
  {
   "cell_type": "code",
   "execution_count": 34,
   "metadata": {},
   "outputs": [
    {
     "data": {
      "text/plain": [
       "'/es/presentacion'"
      ]
     },
     "execution_count": 34,
     "metadata": {},
     "output_type": "execute_result"
    }
   ],
   "source": [
    "seccion.a.get('href')"
   ]
  },
  {
   "cell_type": "code",
   "execution_count": 35,
   "metadata": {},
   "outputs": [],
   "source": [
    "links_secciones = [seccion.a.get('href') for seccion in secciones]"
   ]
  },
  {
   "cell_type": "code",
   "execution_count": 36,
   "metadata": {},
   "outputs": [
    {
     "data": {
      "text/plain": [
       "['/es/presentacion',\n",
       " '/es/proyecciones-macroeconomicas',\n",
       " '/es/seguimiento-de-la-ejecucion-presupuestal-consulta-amigable',\n",
       " '/es/seguimiento-a-las-acciones-prioritarias',\n",
       " '/es/transferencias-a-gobierno-nacional-regional-y-locales/que-es-y-como-muestra-la-consulta',\n",
       " '/es/recaudacion',\n",
       " '/es/fondos-del-estado',\n",
       " '/es/provedores-del-estado/que-es-y-como-muestra-la-consulta',\n",
       " '/es/consulta-de-deuda-publica',\n",
       " '/es/cuenta-general-de-la-republica-sp-26800/que-es-y-como-muestra-la-consulta',\n",
       " '/es/ejecucion-de-proyectos-de-inversion',\n",
       " '/es/fonafe',\n",
       " '/es/preguntas-frecuentes-sp-24472',\n",
       " '/es/normas-legales',\n",
       " '/es/manual-de-uso',\n",
       " '/es/documentacion-sp-3092/leyes-de-presupuesto-del-sector-publico']"
      ]
     },
     "execution_count": 36,
     "metadata": {},
     "output_type": "execute_result"
    }
   ],
   "source": [
    "links_secciones"
   ]
  },
  {
   "cell_type": "code",
   "execution_count": 37,
   "metadata": {},
   "outputs": [],
   "source": [
    "t = [\"https://www.mef.gob.pe\" + i  for i in links_secciones ]"
   ]
  },
  {
   "cell_type": "code",
   "execution_count": 38,
   "metadata": {},
   "outputs": [
    {
     "data": {
      "text/plain": [
       "['https://www.mef.gob.pe/es/presentacion',\n",
       " 'https://www.mef.gob.pe/es/proyecciones-macroeconomicas',\n",
       " 'https://www.mef.gob.pe/es/seguimiento-de-la-ejecucion-presupuestal-consulta-amigable',\n",
       " 'https://www.mef.gob.pe/es/seguimiento-a-las-acciones-prioritarias',\n",
       " 'https://www.mef.gob.pe/es/transferencias-a-gobierno-nacional-regional-y-locales/que-es-y-como-muestra-la-consulta',\n",
       " 'https://www.mef.gob.pe/es/recaudacion',\n",
       " 'https://www.mef.gob.pe/es/fondos-del-estado',\n",
       " 'https://www.mef.gob.pe/es/provedores-del-estado/que-es-y-como-muestra-la-consulta',\n",
       " 'https://www.mef.gob.pe/es/consulta-de-deuda-publica',\n",
       " 'https://www.mef.gob.pe/es/cuenta-general-de-la-republica-sp-26800/que-es-y-como-muestra-la-consulta',\n",
       " 'https://www.mef.gob.pe/es/ejecucion-de-proyectos-de-inversion',\n",
       " 'https://www.mef.gob.pe/es/fonafe',\n",
       " 'https://www.mef.gob.pe/es/preguntas-frecuentes-sp-24472',\n",
       " 'https://www.mef.gob.pe/es/normas-legales',\n",
       " 'https://www.mef.gob.pe/es/manual-de-uso',\n",
       " 'https://www.mef.gob.pe/es/documentacion-sp-3092/leyes-de-presupuesto-del-sector-publico']"
      ]
     },
     "execution_count": 38,
     "metadata": {},
     "output_type": "execute_result"
    }
   ],
   "source": [
    "t"
   ]
  },
  {
   "cell_type": "code",
   "execution_count": 39,
   "metadata": {},
   "outputs": [],
   "source": [
    "sec = requests.get(t[0])"
   ]
  },
  {
   "cell_type": "code",
   "execution_count": 40,
   "metadata": {},
   "outputs": [
    {
     "data": {
      "text/plain": [
       "200"
      ]
     },
     "execution_count": 40,
     "metadata": {},
     "output_type": "execute_result"
    }
   ],
   "source": [
    "sec.status_code"
   ]
  },
  {
   "cell_type": "code",
   "execution_count": 41,
   "metadata": {},
   "outputs": [],
   "source": [
    "s_seccion = BeautifulSoup(sec.text, 'lxml')"
   ]
  },
  {
   "cell_type": "code",
   "execution_count": 42,
   "metadata": {},
   "outputs": [
    {
     "name": "stdout",
     "output_type": "stream",
     "text": [
      "<!DOCTYPE html PUBLIC \"-//W3C//DTD XHTML 1.0 Transitional//EN\" \"http://www.w3.org/TR/xhtml1/DTD/xhtml1-transitional.dtd\">\n",
      "<html dir=\"ltr\" lang=\"es-es\" xml:lang=\"es-es\" xmlns=\"http://www.w3.org/1999/xhtml\"> <head> <meta content=\"IE=8\" http-equiv=\"X-UA-Compatible\"/> <base href=\"https://www.mef.gob.pe/es/presentacion\"/> <meta content=\"text/html; charset=utf-8\" http-equiv=\"content-type\"/> <meta content=\"Ministerio de Economía y Finanzas\" name=\"description\"/> <meta content=\"Joomla! - Open Source Content Management\" name=\"generator\"/> <title>Presentación</title> <link href=\"/es/presentacion\" rel=\"canonical\"/> <link href=\"/templates/meftemplaten2.3bannerssubsites/favicon.ico\" rel=\"shortcut icon\" type=\"image/vnd.microsoft.icon\"/> <link href=\"/plugins/content/xtypo/themes/default/style.css\" rel=\"stylesheet\" type=\"text/css\"/> <style type=\"text/css\"> div.mod_search10083 input[type=\"search\"]{ width:auto; } </style> <script src=\"/plugins/content/xtypo/assets/script.js\" type=\"text/javascript\"></script> <script src=\"/media/jui/js/jquery.min.js\" type=\"text/javascript\"></script> <script src=\"/media/jui/js/jquery-noconflict.js\" type=\"text/javascript\"></script> <script src=\"/media/jui/js/jquery-migrate.min.js\" type=\"text/javascript\"></script> <script src=\"/media/jui/js/bootstrap.min.js\" type=\"text/javascript\"></script> <script src=\"/media/system/js/html5fallback.js\" type=\"text/javascript\"></script> <script type=\"text/javascript\"> jQuery(document).ready(function(){ jQuery('.hasTooltip').tooltip({\"html\": true,\"container\": \"body\"}); }); </script> <!--Carga de Hojas de Estilo del Sistema--> <link href=\"https://www.mef.gob.pe/templates/system/css/system.css\" rel=\"stylesheet\" type=\"text/css\"/> <link href=\"https://www.mef.gob.pe/templates/system/css/general.css\" rel=\"stylesheet\" type=\"text/css\"/> <!--Carga de Hojas de Estilo de la Plantilla--> <link href=\"https://www.mef.gob.pe/templates/meftemplaten2.3bannerssubsites/css/template.css\" rel=\"stylesheet\" type=\"text/css\"/> <!--[if IE 7]> <link rel=\"stylesheet\" href=\"https://www.mef.gob.pe/templates/meftemplaten2.3bannerssubsites/css/ie7.css\" type=\"text/css\" /> <![endif]--> <!--[if IE 8]> <link rel=\"stylesheet\" href=\"https://www.mef.gob.pe/templates/meftemplaten2.3bannerssubsites/css/ie8.css\" type=\"text/css\" /> <![endif]--> <!--[if IE 9]> <link rel=\"stylesheet\" href=\"https://www.mef.gob.pe/templates/meftemplaten2.3bannerssubsites/css/ie9.css\" type=\"text/css\" /> <![endif]--> <!--[if IE 10]> <link rel=\"stylesheet\" href=\"https://www.mef.gob.pe/templates/meftemplaten2.3bannerssubsites/css/ie10.css\" type=\"text/css\" /> <![endif]--> <meta content=\"text/html; charset=utf-8\" http-equiv=\"Content-Type\"/> <!-- Analizador web --> <script type=\"text/javascript\"> var _gaq = _gaq || []; _gaq.push(['_setAccount', 'UA-20570939-1']); _gaq.push(['_setDomainName', '.mef.gob.pe']); _gaq.push(['_trackPageview']); (function() { var ga = document.createElement('script'); ga.type = 'text/javascript'; ga.async = true; ga.src = ('https:' == document.location.protocol ? 'https://ssl' : 'http://www') + '.google-analytics.com/ga.js'; var s = document.getElementsByTagName('script')[0]; s.parentNode.insertBefore(ga, s); })(); </script> </head> <body class=\"inicio\"> <div id=\"contenedor-principal_interiores\"> <div id=\"contenedor-A\"> <div id=\"cabecera-inicial\"></div> <div id=\"cont_menutop\"> <div id=\"menu_nav1\"> <ul id=\"menu_top\"> <li> <div class=\"moduletable menu_nav1\"> <ul class=\"menu\"> <li class=\"item-100002\"><a href=\"/../../../\"><img alt=\"Home\" src=\"/images/stories/icon-inicio.gif\"/></a></li><li class=\"item-100003\"><a href=\"/es/contactenos\"><img alt=\"Contáctenos\" src=\"/images/stories/icon-contac.gif\"/> </a></li><li class=\"item-101571\"><a href=\"/es/correo-institucional\"><img alt=\"Correo Institucional\" src=\"/images/stories/icon-correo.gif\"/> </a></li><li class=\"item-100004\"><a href=\"/es/mapa-del-sitio\"><img alt=\"Mapa del sitio\" src=\"/images/stories/icon-mapa.gif\"/> </a></li></ul> </div> </li> </ul> </div> <div id=\"menu_nav2\"> <ul id=\"menu_top2\"> <li> <div class=\"moduletable_modmenunav2\"> <ul class=\"nav menu_menunav2\"> <li class=\"item-100005\"><a href=\"/es/glosario\">Glosario</a></li><li class=\"item-100135 divider\"><span class=\"separator \"><img alt=\"\" src=\"/images/stories/sep_menutop.jpg\"/><span class=\"image-title\"></span></span> </li><li class=\"item-100006\"><a href=\"/es/preguntas-frecuentes\">Preguntas Frecuentes</a></li><li class=\"item-100136 divider\"><span class=\"separator \"><img alt=\"\" src=\"/images/stories/sep_menutop.jpg\"/><span class=\"image-title\"></span></span> </li><li class=\"item-101462\"><a href=\"/?lang=en\">English - Short version</a></li><li class=\"item-100137 divider\"><span class=\"separator \"><img alt=\"\" src=\"/images/stories/sep_menutop.jpg\"/><span class=\"image-title\"></span></span> </li><li class=\"item-100007\"><a href=\"/es/?option=com_wrapper&amp;view=wrapper&amp;Itemid=101731\" target=\"_blank\">Portal de Transparencia</a></li><li class=\"item-102409\"><a href=\"/?option=com_wrapper&amp;view=wrapper&amp;Itemid=101731\"><img alt=\"Lupa\" src=\"/images/iconos/icono_pte.jpg\"/></a></li></ul> </div> </li> </ul> </div> <!-- <div id=\"idioma\"> <ul id=\"menu_top3\"> <li> < ?php if($this->countModules('idioma')) : ?> < ?php endif; ?> </li> </ul> </div> <div id=\"separador\">&nbsp;</div>--> <div id=\"busqueda\"> <ul id=\"menu_top4\"> <li class=\"noborder\"> <div class=\"moduletable_busqueda\"> <div class=\"search_busqueda mod_search10083\"> <form action=\"/es/presentacion\" class=\"form-inline\" method=\"post\"> <label class=\"element-invisible\" for=\"mod-search-searchword\">Buscar...</label> <input class=\"inputbox search-query\" id=\"mod-search-searchword\" maxlength=\"200\" name=\"searchword\" placeholder=\"Buscar...\" size=\"15\" type=\"search\"/> <input name=\"task\" type=\"hidden\" value=\"search\"/> <input name=\"option\" type=\"hidden\" value=\"com_search\"/> <input name=\"Itemid\" type=\"hidden\" value=\"101131\"/> </form> </div> </div> </li> </ul> </div> </div> <div id=\"cont_banner_principal\"> <div id=\"regresar_mef\"> <div id=\"fecha\"><script src=\"/templates/mef_n2_3_bannersubsites/js/fecha.js\" type=\"text/javascript\"></script></div> </div> <div class=\"moduletable_banner_principal_subsite\"> <div class=\"bannergroup_banner_principal_subsite\"> <div class=\"banneritem\"> <a href=\"/es/component/banners/click/33\" title=\"Subsite Portal de Transparencia Económica\"> <img alt=\"Subsite Portal de Transparencia Económica\" src=\"https://www.mef.gob.pe/images/banners/cabecera-info-eco.jpg\"/> </a> <div class=\"clr\"></div> </div> </div> </div> </div> <div id=\"space_blanco2\"> </div> <div id=\"contenido_interiores\"> <!-- MENU IZQUIERDO --> <div id=\"menu_izquierdo\"> <div id=\"menu_cont\"> <div class=\"moduletable_modmenulateral\"> <ul class=\"nav menu_menulateral\"> <li class=\"item-100931 current active\"><a href=\"/es/presentacion\">Presentación</a></li><li class=\"item-100932\"><a href=\"/es/proyecciones-macroeconomicas\">Proyecciones Macroeconómicas</a></li><li class=\"item-100944\"><a href=\"/es/seguimiento-de-la-ejecucion-presupuestal-consulta-amigable\">Seguimiento de la Ejecución Presupuestal (Consulta amigable)</a></li><li class=\"item-100947 parent\"><a href=\"/es/seguimiento-a-las-acciones-prioritarias\">Seguimiento a las Acciones Prioritarias</a></li><li class=\"item-100956 parent\"><a href=\"/es/transferencias-a-gobierno-nacional-regional-y-locales/que-es-y-como-muestra-la-consulta\">Transferencias a Gobierno Nacional, Regional y Locales</a></li><li class=\"item-100967\"><a href=\"/es/recaudacion\">Recaudación</a></li><li class=\"item-100970 parent\"><a href=\"/es/fondos-del-estado\">Fondos del Estado</a></li><li class=\"item-100975 parent\"><a href=\"/es/provedores-del-estado/que-es-y-como-muestra-la-consulta\">Provedores del Estado</a></li><li class=\"item-100982\"><a href=\"/es/consulta-de-deuda-publica\">Consulta de Deuda Pública</a></li><li class=\"item-100995 parent\"><a href=\"/es/cuenta-general-de-la-republica-sp-26800/que-es-y-como-muestra-la-consulta\">Cuenta General de la República</a></li><li class=\"item-100999\"><a href=\"/es/ejecucion-de-proyectos-de-inversion\">Ejecución de Proyectos de Inversión</a></li><li class=\"item-101711\"><a href=\"/es/fonafe\">Fonafe</a></li><li class=\"item-101004\"><a href=\"/es/preguntas-frecuentes-sp-24472\">Preguntas Frecuentes</a></li><li class=\"item-101008\"><a href=\"/es/normas-legales\">Normas Legales</a></li><li class=\"item-101009\"><a href=\"/es/manual-de-uso\">Manuales de Uso</a></li><li class=\"item-101878 parent\"><a href=\"/es/documentacion-sp-3092/leyes-de-presupuesto-del-sector-publico\">Documentación</a></li></ul> </div> </div> </div> <!-- FIN MENU IZQUIERDO --> <div id=\"space_blanco\"> </div> <!-- CONTENIDO --> <div id=\"contenido\"> <!-- MAPA DEL SITIO --> <!-- < ?php if($this->countModules('n2_3_rutanav')) : ?> <div id=\"mapa_del_sitio\"> <div class=\"moduletable_ruta_acceso_subsites\"> <ul itemscope itemtype=\"https://schema.org/BreadcrumbList\" class=\"breadcrumb_ruta_acceso_subsites\"> <li> Está aquí: &#160; </li> <li itemprop=\"itemListElement\" itemscope itemtype=\"https://schema.org/ListItem\"> <a itemprop=\"item\" href=\"/es/\" class=\"pathway\"><span itemprop=\"name\">Inicio</span></a> <span class=\"divider\"> &gt;&gt; </span> <meta itemprop=\"position\" content=\"1\"> </li> <li itemprop=\"itemListElement\" itemscope itemtype=\"https://schema.org/ListItem\" class=\"active\"> <span itemprop=\"name\"> Presentación </span> <meta itemprop=\"position\" content=\"2\"> </li> </ul> </div> <div id=\"space_blanco2\">&nbsp;</div> </div> < ?php endif; ? > --> <!-- FIN MAPA DEL SITIO --> <div class=\"item-page\"> <h1> Presentación </h1> <h2 class=\"contentheading\"> ¿Qué es el Portal de Transparencia Económica? </h2> <p> </p> <p style=\"text-align: justify;\"><span class=\"texto_contenidos\">El Portal de Transparencia Económica es una plataforma informativa de acceso libre que permite a cualquier usuario disponer, en tiempo real, de la más completa información económica que haya podido centralizar el Ministerio de Economía y Finanzas (MEF), desde el Gobierno de Transición a la fecha.<br/><br/></span> </p> <p style=\"text-align: justify;\"><span class=\"texto_contenidos\"><br/><br/>Está compuesto de Módulos de Consulta a Base de Datos con información financiera y presupuestal.</span> </p> <p style=\"text-align: justify;\"><span class=\"texto_contenidos\">El Portal se inauguró oficialmente el 23 de febrero del 2001, siendo Ministro de Economía y Finanzas, el Dr. Javier Silva Ruete, cuando se entregó al presidente de la República, Dr. Valentín Paniagua Corazao, el CD-ROM del Portal en un acto público desarrollado en Palacio de Gobierno y en presencia del entonces  presidente del Consejo de Ministros, Dr. Javier Pérez de Cuellar, del cuerpo diplomático acreditado en el Perú, empresarios y miembros de la prensa nacional. </span> </p> <div> </div> <p><span class=\"texto_contenidos\">.............................................................................................................................................................................................<br/></span> </p> <p><span class=\"texto_contenidos\"><br/><span class=\"titulo_3ernivel\">Objetivos del Portal</span></span> </p> <p><span class=\"texto_contenidos\"></span> </p> <p><span class=\"texto_contenidos\">Son objetivos del Portal de Transparencia Económica:</span> </p> <ul> <li> <div style=\"text-align: justify;\"><span class=\"texto_contenidos\">Convertirse en la ventana de transparencia económica del Estado</span> </div></li> <li> <div style=\"text-align: justify;\"><span class=\"texto_contenidos\">Brindar libre acceso a información económica del Estado</span> </div></li> <li> <div style=\"text-align: justify;\"><span class=\"texto_contenidos\">Fomentar una cultura de transparencia en el Estado y la sociedad peruana</span> </div></li> <li> <div style=\"text-align: justify;\"><span class=\"texto_contenidos\">Promover una mayor fiscalización de la ciudadanía respecto al Estado en su conjunto</span> </div></li> <li> <div style=\"text-align: justify;\"><span class=\"texto_contenidos\">Reducir riesgos de corrupción</span> </div></li> <li> <div style=\"text-align: justify;\"><span class=\"texto_contenidos\">Democratizar las decisiones del gobierno mediante una mayor y mejor participación de la ciudadanía.</span> </div></li> </ul> <p><span class=\"texto_contenidos\"></span> </p> <p><span class=\"texto_contenidos\">La creación del Portal significa sólo el inicio de un largo proceso que ha de conducirnos a un manejo moderno y transparente de la gestión pública, con una activa fiscalización de la ciudadanía. La información que antes era secreta o sólo disponible a altas autoridades, ha sido puesta a disposición de toda la ciudadanía con la convicción que todas las personas tienen derecho a acceder libremente a la información pública.<br/><br/>En la oportunidad de su presentación, el presidente Paniagua expresó su satisfacción por el nacimiento del Portal señalando que dicho acto marcaba el inicio de un cambio estructural radical, no sólo en la concepción de nuestro sistema democrático, sino en el sistema de conducción del Estado. \"Diríase, si no fuera una exageración, que esto implica un nuevo pacto social\", comentó el Presidente al destacar la importancia del Portal para afianzar nuestra democracia.</span> </p> <div><span class=\"texto_contenidos\">..............................................................................................................................................................................................<br/><br/></span> <p><span class=\"titulo_3ernivel\">Actualización del Portal</span> </p> <p><span class=\"texto_contenidos\"></span> </p> <p><span class=\"texto_contenidos\">El Portal de Transparencia Económica es actualizado diaria y mensualmente. Básicamente, está compuesto por Bases de Datos, cada una con capacidad de consulta por diferentes opciones. La información de base proviene de cada fuente, es decir, de la institución responsable de su manejo.</span> </p> <p><span class=\"texto_contenidos\">..............................................................................................................................................................................................</span> </p> <p><span class=\"texto_contenidos\"></span> </p> <p><span class=\"titulo_3ernivel\">En el Portal Ud. podrá encontrar</span> </p> <p><span class=\"texto_contenidos\"></span> </p> <ul> <li><span class=\"texto_contenidos\">Información acerca de los principales indicadores y proyecciones de la economía,</span> </li> <li><span class=\"texto_contenidos\">Resumen de los Planes Estratégicos de los diferentes sectores del Estado</span> </li> <li><span class=\"texto_contenidos\">Gastos del Gobierno Central (SIAF-SP) - Base de Datos</span> </li> <li><span class=\"texto_contenidos\">Un directorio de las entidades públicas - Base de Datos</span> </li> <li><span class=\"texto_contenidos\">Los Estados Financieros de las Empresas Públicas (FONAFE) - Base de datos</span> </li> <li><span class=\"texto_contenidos\">Los Estados Financieros del FONAHPU y FCR</span> </li> <li><span class=\"texto_contenidos\">Deuda Interna y Externa - Base de Datos</span> </li> <li><span class=\"texto_contenidos\">Proveedores del Estado: Consulta de cheques en cartera - Base de Datos</span> </li> </ul> <p><span class=\"texto_contenidos\"></span> </p> <p><span class=\"texto_contenidos\">....................................................................................................................................................................................................</span> </p> <p><span class=\"texto_contenidos\"></span> </p> <p><span class=\"texto_contenidos\"><span class=\"texto_linkeables\"><a href=\"/es/presentacion#top\">subir</a></span><br/> </span> </p> </div> </div> </div> <!-- FIN CONTENIDO --> </div> </div> </div> </body> </html> \n"
     ]
    }
   ],
   "source": [
    "print(s_seccion)"
   ]
  },
  {
   "cell_type": "code",
   "execution_count": 43,
   "metadata": {},
   "outputs": [],
   "source": [
    "item_seccion = s_seccion.find('div', attrs={\"class\":\"item-page\"})"
   ]
  },
  {
   "cell_type": "code",
   "execution_count": 44,
   "metadata": {},
   "outputs": [
    {
     "name": "stdout",
     "output_type": "stream",
     "text": [
      "<div class=\"item-page\"> <h1> Presentación </h1> <h2 class=\"contentheading\"> ¿Qué es el Portal de Transparencia Económica? </h2> <p> </p> <p style=\"text-align: justify;\"><span class=\"texto_contenidos\">El Portal de Transparencia Económica es una plataforma informativa de acceso libre que permite a cualquier usuario disponer, en tiempo real, de la más completa información económica que haya podido centralizar el Ministerio de Economía y Finanzas (MEF), desde el Gobierno de Transición a la fecha.<br/><br/></span> </p> <p style=\"text-align: justify;\"><span class=\"texto_contenidos\"><br/><br/>Está compuesto de Módulos de Consulta a Base de Datos con información financiera y presupuestal.</span> </p> <p style=\"text-align: justify;\"><span class=\"texto_contenidos\">El Portal se inauguró oficialmente el 23 de febrero del 2001, siendo Ministro de Economía y Finanzas, el Dr. Javier Silva Ruete, cuando se entregó al presidente de la República, Dr. Valentín Paniagua Corazao, el CD-ROM del Portal en un acto público desarrollado en Palacio de Gobierno y en presencia del entonces  presidente del Consejo de Ministros, Dr. Javier Pérez de Cuellar, del cuerpo diplomático acreditado en el Perú, empresarios y miembros de la prensa nacional. </span> </p> <div> </div> <p><span class=\"texto_contenidos\">.............................................................................................................................................................................................<br/></span> </p> <p><span class=\"texto_contenidos\"><br/><span class=\"titulo_3ernivel\">Objetivos del Portal</span></span> </p> <p><span class=\"texto_contenidos\"></span> </p> <p><span class=\"texto_contenidos\">Son objetivos del Portal de Transparencia Económica:</span> </p> <ul> <li> <div style=\"text-align: justify;\"><span class=\"texto_contenidos\">Convertirse en la ventana de transparencia económica del Estado</span> </div></li> <li> <div style=\"text-align: justify;\"><span class=\"texto_contenidos\">Brindar libre acceso a información económica del Estado</span> </div></li> <li> <div style=\"text-align: justify;\"><span class=\"texto_contenidos\">Fomentar una cultura de transparencia en el Estado y la sociedad peruana</span> </div></li> <li> <div style=\"text-align: justify;\"><span class=\"texto_contenidos\">Promover una mayor fiscalización de la ciudadanía respecto al Estado en su conjunto</span> </div></li> <li> <div style=\"text-align: justify;\"><span class=\"texto_contenidos\">Reducir riesgos de corrupción</span> </div></li> <li> <div style=\"text-align: justify;\"><span class=\"texto_contenidos\">Democratizar las decisiones del gobierno mediante una mayor y mejor participación de la ciudadanía.</span> </div></li> </ul> <p><span class=\"texto_contenidos\"></span> </p> <p><span class=\"texto_contenidos\">La creación del Portal significa sólo el inicio de un largo proceso que ha de conducirnos a un manejo moderno y transparente de la gestión pública, con una activa fiscalización de la ciudadanía. La información que antes era secreta o sólo disponible a altas autoridades, ha sido puesta a disposición de toda la ciudadanía con la convicción que todas las personas tienen derecho a acceder libremente a la información pública.<br/><br/>En la oportunidad de su presentación, el presidente Paniagua expresó su satisfacción por el nacimiento del Portal señalando que dicho acto marcaba el inicio de un cambio estructural radical, no sólo en la concepción de nuestro sistema democrático, sino en el sistema de conducción del Estado. \"Diríase, si no fuera una exageración, que esto implica un nuevo pacto social\", comentó el Presidente al destacar la importancia del Portal para afianzar nuestra democracia.</span> </p> <div><span class=\"texto_contenidos\">..............................................................................................................................................................................................<br/><br/></span> <p><span class=\"titulo_3ernivel\">Actualización del Portal</span> </p> <p><span class=\"texto_contenidos\"></span> </p> <p><span class=\"texto_contenidos\">El Portal de Transparencia Económica es actualizado diaria y mensualmente. Básicamente, está compuesto por Bases de Datos, cada una con capacidad de consulta por diferentes opciones. La información de base proviene de cada fuente, es decir, de la institución responsable de su manejo.</span> </p> <p><span class=\"texto_contenidos\">..............................................................................................................................................................................................</span> </p> <p><span class=\"texto_contenidos\"></span> </p> <p><span class=\"titulo_3ernivel\">En el Portal Ud. podrá encontrar</span> </p> <p><span class=\"texto_contenidos\"></span> </p> <ul> <li><span class=\"texto_contenidos\">Información acerca de los principales indicadores y proyecciones de la economía,</span> </li> <li><span class=\"texto_contenidos\">Resumen de los Planes Estratégicos de los diferentes sectores del Estado</span> </li> <li><span class=\"texto_contenidos\">Gastos del Gobierno Central (SIAF-SP) - Base de Datos</span> </li> <li><span class=\"texto_contenidos\">Un directorio de las entidades públicas - Base de Datos</span> </li> <li><span class=\"texto_contenidos\">Los Estados Financieros de las Empresas Públicas (FONAFE) - Base de datos</span> </li> <li><span class=\"texto_contenidos\">Los Estados Financieros del FONAHPU y FCR</span> </li> <li><span class=\"texto_contenidos\">Deuda Interna y Externa - Base de Datos</span> </li> <li><span class=\"texto_contenidos\">Proveedores del Estado: Consulta de cheques en cartera - Base de Datos</span> </li> </ul> <p><span class=\"texto_contenidos\"></span> </p> <p><span class=\"texto_contenidos\">....................................................................................................................................................................................................</span> </p> <p><span class=\"texto_contenidos\"></span> </p> <p><span class=\"texto_contenidos\"><span class=\"texto_linkeables\"><a href=\"/es/presentacion#top\">subir</a></span><br/> </span> </p> </div> </div>\n"
     ]
    }
   ],
   "source": [
    "print(item_seccion)"
   ]
  },
  {
   "cell_type": "code",
   "execution_count": 45,
   "metadata": {},
   "outputs": [
    {
     "data": {
      "text/plain": [
       "'/es/presentacion#top'"
      ]
     },
     "execution_count": 45,
     "metadata": {},
     "output_type": "execute_result"
    }
   ],
   "source": [
    "item_seccion.a.get('href')"
   ]
  },
  {
   "cell_type": "code",
   "execution_count": 46,
   "metadata": {},
   "outputs": [],
   "source": [
    "list_seccion = s_seccion.find('span', attrs={\"class\":\"texto_linkeables\"} )"
   ]
  },
  {
   "cell_type": "code",
   "execution_count": 47,
   "metadata": {},
   "outputs": [
    {
     "data": {
      "text/plain": [
       "<span class=\"texto_linkeables\"><a href=\"/es/presentacion#top\">subir</a></span>"
      ]
     },
     "execution_count": 47,
     "metadata": {},
     "output_type": "execute_result"
    }
   ],
   "source": [
    "list_seccion"
   ]
  },
  {
   "cell_type": "code",
   "execution_count": 48,
   "metadata": {},
   "outputs": [
    {
     "data": {
      "text/plain": [
       "'/es/presentacion#top'"
      ]
     },
     "execution_count": 48,
     "metadata": {},
     "output_type": "execute_result"
    }
   ],
   "source": [
    "list_seccion.a.get('href')"
   ]
  },
  {
   "cell_type": "code",
   "execution_count": null,
   "metadata": {},
   "outputs": [],
   "source": []
  },
  {
   "cell_type": "code",
   "execution_count": null,
   "metadata": {},
   "outputs": [],
   "source": []
  },
  {
   "cell_type": "code",
   "execution_count": null,
   "metadata": {},
   "outputs": [],
   "source": []
  },
  {
   "cell_type": "code",
   "execution_count": null,
   "metadata": {},
   "outputs": [],
   "source": []
  },
  {
   "cell_type": "code",
   "execution_count": null,
   "metadata": {},
   "outputs": [],
   "source": []
  },
  {
   "cell_type": "code",
   "execution_count": null,
   "metadata": {},
   "outputs": [],
   "source": [
    "#article_list = s_seccion.find('ul', attrs={\"class\":\"item-page\"})"
   ]
  },
  {
   "cell_type": "code",
   "execution_count": null,
   "metadata": {},
   "outputs": [],
   "source": []
  },
  {
   "cell_type": "code",
   "execution_count": null,
   "metadata": {},
   "outputs": [],
   "source": []
  },
  {
   "cell_type": "code",
   "execution_count": null,
   "metadata": {},
   "outputs": [],
   "source": [
    "#article_list"
   ]
  },
  {
   "cell_type": "code",
   "execution_count": null,
   "metadata": {},
   "outputs": [],
   "source": []
  },
  {
   "cell_type": "code",
   "execution_count": null,
   "metadata": {},
   "outputs": [],
   "source": [
    "# import boto3\n",
    "# import json\n",
    "# import os\n",
    "# import threading\n",
    "# import sys\n",
    "# from boto3.s3.transfer import TransferConfig"
   ]
  },
  {
   "cell_type": "markdown",
   "metadata": {},
   "source": [
    "#### Definiendo variables"
   ]
  },
  {
   "cell_type": "code",
   "execution_count": null,
   "metadata": {},
   "outputs": [],
   "source": [
    "# BUCKET_NAME = 'tem-um-bom-2'"
   ]
  },
  {
   "cell_type": "markdown",
   "metadata": {},
   "source": [
    "#### Client y Resource"
   ]
  },
  {
   "cell_type": "code",
   "execution_count": null,
   "metadata": {},
   "outputs": [],
   "source": [
    "# s3_client = boto3.client('s3')"
   ]
  },
  {
   "cell_type": "code",
   "execution_count": null,
   "metadata": {},
   "outputs": [],
   "source": [
    "# s3_resource = boto3.resource('s3')"
   ]
  },
  {
   "cell_type": "markdown",
   "metadata": {},
   "source": [
    "#### Gestion de buckets"
   ]
  },
  {
   "cell_type": "code",
   "execution_count": null,
   "metadata": {},
   "outputs": [],
   "source": [
    "# s3_client.create_bucket(\n",
    "#         Bucket=BUCKET_NAME,\n",
    "#         CreateBucketConfiguration={\n",
    "#             'LocationConstraint': 'eu-central-1'\n",
    "#         }\n",
    "#     )"
   ]
  },
  {
   "cell_type": "code",
   "execution_count": null,
   "metadata": {},
   "outputs": [],
   "source": [
    "# s3_client.list_buckets()"
   ]
  },
  {
   "cell_type": "code",
   "execution_count": null,
   "metadata": {},
   "outputs": [],
   "source": [
    "# s3_client.delete_bucket(Bucket=BUCKET_NAME)"
   ]
  },
  {
   "cell_type": "code",
   "execution_count": null,
   "metadata": {},
   "outputs": [],
   "source": [
    "# object_key = 'File1.txt'\n",
    "# s3_client.get_object(Bucket=BUCKET_NAME, Key=object_key)"
   ]
  },
  {
   "cell_type": "code",
   "execution_count": null,
   "metadata": {},
   "outputs": [],
   "source": [
    "# file_path = 'michael-martin.pdf'\n",
    "# s3_client.upload_file(file_path, BUCKET_NAME, 'michael-martin.pdf')"
   ]
  },
  {
   "cell_type": "code",
   "execution_count": null,
   "metadata": {},
   "outputs": [],
   "source": [
    "# config = TransferConfig(multipart_threshold=1024 * 25, max_concurrency=10,\n",
    "#                         multipart_chunksize=1024 * 25, use_threads=True)\n",
    "# file_path = 'michael-martin.pdf'\n",
    "# key_path = 'multipart_files/largefile.pdf'\n",
    "# s3_resource.meta.client.upload_file(file_path, BUCKET_NAME, key_path,\n",
    "#                                       ExtraArgs={'ACL': 'public-read', 'ContentType': 'text/pdf'},\n",
    "#                                       Config=config\n",
    "#                                       )"
   ]
  },
  {
   "cell_type": "markdown",
   "metadata": {},
   "source": [
    "#### Session"
   ]
  },
  {
   "cell_type": "code",
   "execution_count": null,
   "metadata": {},
   "outputs": [],
   "source": [
    "# aws_manager = boto3.session.Session(profile_name='administrador')"
   ]
  },
  {
   "cell_type": "code",
   "execution_count": null,
   "metadata": {},
   "outputs": [],
   "source": [
    "# s3client_from_session = aws_manager.client('s3')"
   ]
  },
  {
   "cell_type": "code",
   "execution_count": null,
   "metadata": {},
   "outputs": [],
   "source": [
    "# s3client_from_session.list_buckets()"
   ]
  },
  {
   "cell_type": "markdown",
   "metadata": {},
   "source": [
    "#### Meta"
   ]
  },
  {
   "cell_type": "code",
   "execution_count": null,
   "metadata": {},
   "outputs": [],
   "source": [
    "# s3_resource.meta.client## de resource a client"
   ]
  },
  {
   "cell_type": "code",
   "execution_count": null,
   "metadata": {},
   "outputs": [],
   "source": [
    "# aws configure --profile operario\n",
    "# sudo adduser user01\n",
    "# sudo passwd user01"
   ]
  }
 ],
 "metadata": {
  "kernelspec": {
   "display_name": "conda_amazonei_mxnet_p27",
   "language": "python",
   "name": "conda_amazonei_mxnet_p27"
  },
  "language_info": {
   "codemirror_mode": {
    "name": "ipython",
    "version": 2
   },
   "file_extension": ".py",
   "mimetype": "text/x-python",
   "name": "python",
   "nbconvert_exporter": "python",
   "pygments_lexer": "ipython2",
   "version": "2.7.15"
  }
 },
 "nbformat": 4,
 "nbformat_minor": 4
}
